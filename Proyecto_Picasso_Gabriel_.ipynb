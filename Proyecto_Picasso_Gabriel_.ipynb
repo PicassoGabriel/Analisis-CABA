{
  "cells": [
    {
      "cell_type": "markdown",
      "source": [
        "En este humilde proyecto de análisis de datos, me propongo analizar la situación inmobiliaria de la Ciudad Autónoma de Buenos Aires."
      ],
      "metadata": {
        "id": "Hn-4kuTUAzfL"
      }
    },
    {
      "cell_type": "markdown",
      "metadata": {
        "id": "ESeB4eV_HZsW"
      },
      "source": [
        "Importo las librerias correspondientes."
      ]
    },
    {
      "cell_type": "code",
      "execution_count": null,
      "metadata": {
        "id": "Q7OjlSTyIHfU"
      },
      "outputs": [],
      "source": [
        "import pandas as pd\n",
        "\n",
        "#Librerias para graficar\n",
        "import matplotlib.pyplot as plt\n",
        "import seaborn as sns"
      ]
    },
    {
      "cell_type": "markdown",
      "metadata": {
        "id": "sD-F84xHHmUD"
      },
      "source": [
        "Creo el dataframe y lo llamo para tener un pantallazo del contenido con el que voy a trabajar."
      ]
    },
    {
      "cell_type": "code",
      "execution_count": null,
      "metadata": {
        "colab": {
          "base_uri": "https://localhost:8080/",
          "height": 721
        },
        "id": "dpfpaKXsIWNy",
        "outputId": "2b76cfa9-30f5-4e2d-f87a-5b34b7b473b8"
      },
      "outputs": [
        {
          "output_type": "execute_result",
          "data": {
            "text/plain": [
              "                              id  start_date    end_date  created_on  \\\n",
              "0       XZq2dFGxBiboHY3Bo/tqlw==  2021-09-09  2022-01-27  2021-09-09   \n",
              "1       8afoK+yMH/rnnlYiktwgNA==  2021-09-09  2021-10-23  2021-09-09   \n",
              "2       iVaG5rBB47dd1Ya4BMXREA==  2021-09-09  2022-03-09  2021-09-09   \n",
              "3       QE1QVMWKAHWkd0qT0FtPWA==  2021-09-09  2022-01-27  2021-09-09   \n",
              "4       tJ5lSk7IysG/71OGhacNZA==  2021-09-09  2022-01-27  2021-09-09   \n",
              "...                          ...         ...         ...         ...   \n",
              "460149  EWHC/xcODFkeEA0+pPE6Rw==  2021-01-05  2021-01-08  2021-01-05   \n",
              "460150  txKUq0LjMaORjJQeeqTOfw==  2021-01-05  2021-11-01  2021-01-05   \n",
              "460151  E0zwHT18DX8AxhU22hXgng==  2021-01-05  2021-03-01  2021-01-05   \n",
              "460152  Ec4Tvy/WX5f6RgfaJf2FHQ==  2021-01-05  2021-11-28  2021-01-05   \n",
              "460153  Y7KBafQ+e5noGh2Pio0xLg==  2021-01-05  9999-12-31  2021-01-05   \n",
              "\n",
              "          latitud   longitud                  place_l2               place_l3  \\\n",
              "0      -38.957632 -68.105443                   Neuquén                    NaN   \n",
              "1      -34.888878 -56.092368                Montevideo                    NaN   \n",
              "2      -32.488717 -58.257499                Entre Ríos                    NaN   \n",
              "3      -34.900165 -54.808453                 Maldonado                    NaN   \n",
              "4      -38.954528 -68.041862                   Neuquén                    NaN   \n",
              "...           ...        ...                       ...                    ...   \n",
              "460149 -34.599594 -58.588715  Bs.As. G.B.A. Zona Oeste        Tres de Febrero   \n",
              "460150 -34.582777 -58.545220  Bs.As. G.B.A. Zona Norte     General San Martín   \n",
              "460151        NaN        NaN  Bs.As. G.B.A. Zona Norte     General San Martín   \n",
              "460152 -33.226234 -60.331848                  Santa Fe     Villa Constitución   \n",
              "460153 -26.827938 -65.220708                   Tucumán  San Miguel de Tucumán   \n",
              "\n",
              "           place_l4 place_l5  place_l6 operation    property_type  \\\n",
              "0               NaN      NaN       NaN     Venta             Casa   \n",
              "1               NaN      NaN       NaN     Venta             Casa   \n",
              "2               NaN      NaN       NaN     Venta             Casa   \n",
              "3               NaN      NaN       NaN     Venta             Casa   \n",
              "4               NaN      NaN       NaN     Venta               PH   \n",
              "...             ...      ...       ...       ...              ...   \n",
              "460149          NaN      NaN       NaN     Venta  Local comercial   \n",
              "460150  Villa Lynch      NaN       NaN     Venta  Local comercial   \n",
              "460151          NaN      NaN       NaN     Venta  Local comercial   \n",
              "460152          NaN      NaN       NaN  Alquiler  Local comercial   \n",
              "460153          NaN      NaN       NaN     Venta  Local comercial   \n",
              "\n",
              "        property_rooms  property_bedrooms  property_surface_total  \\\n",
              "0                  6.0                NaN                     NaN   \n",
              "1                  4.0                3.0                   193.0   \n",
              "2                  NaN                NaN                   110.0   \n",
              "3                  NaN                3.0                     NaN   \n",
              "4                  3.0                2.0                     NaN   \n",
              "...                ...                ...                     ...   \n",
              "460149             NaN                NaN                   113.0   \n",
              "460150             NaN                NaN                 11580.0   \n",
              "460151             NaN                NaN                   915.0   \n",
              "460152             NaN                NaN                     NaN   \n",
              "460153             1.0                NaN                   243.0   \n",
              "\n",
              "        property_surface_covered  property_price property_currency  \\\n",
              "0                          206.0             NaN               NaN   \n",
              "1                          193.0        390000.0               USD   \n",
              "2                           45.0         47000.0               USD   \n",
              "3                          180.0        400000.0               USD   \n",
              "4                           98.0        102000.0               USD   \n",
              "...                          ...             ...               ...   \n",
              "460149                     113.0        190000.0               USD   \n",
              "460150                   11580.0       3500000.0               USD   \n",
              "460151                     915.0        800000.0               USD   \n",
              "460152                      15.0             NaN               NaN   \n",
              "460153                     133.0        160000.0               USD   \n",
              "\n",
              "                                           property_title  \n",
              "0                                          Casa - Capital  \n",
              "1                                           Casa - Malvín  \n",
              "2                                          Casa - Uruguay  \n",
              "3                                        Casa - El Chorro  \n",
              "4                                      PH - Villa Farrell  \n",
              "...                                                   ...  \n",
              "460149   LOCAL COMERCIAL MAS DE 100 MTS. - Ciudad jardín-  \n",
              "460150                      Nave Industrial - Villa Lynch  \n",
              "460151  importante edificio comercial en tres plantas ...  \n",
              "460152                         Local - Villa Constitucion  \n",
              "460153                      Local - San Miguel De Tucumán  \n",
              "\n",
              "[460154 rows x 20 columns]"
            ],
            "text/html": [
              "\n",
              "  <div id=\"df-1508f04e-dc46-4320-8a8d-c2c69aa3aada\" class=\"colab-df-container\">\n",
              "    <div>\n",
              "<style scoped>\n",
              "    .dataframe tbody tr th:only-of-type {\n",
              "        vertical-align: middle;\n",
              "    }\n",
              "\n",
              "    .dataframe tbody tr th {\n",
              "        vertical-align: top;\n",
              "    }\n",
              "\n",
              "    .dataframe thead th {\n",
              "        text-align: right;\n",
              "    }\n",
              "</style>\n",
              "<table border=\"1\" class=\"dataframe\">\n",
              "  <thead>\n",
              "    <tr style=\"text-align: right;\">\n",
              "      <th></th>\n",
              "      <th>id</th>\n",
              "      <th>start_date</th>\n",
              "      <th>end_date</th>\n",
              "      <th>created_on</th>\n",
              "      <th>latitud</th>\n",
              "      <th>longitud</th>\n",
              "      <th>place_l2</th>\n",
              "      <th>place_l3</th>\n",
              "      <th>place_l4</th>\n",
              "      <th>place_l5</th>\n",
              "      <th>place_l6</th>\n",
              "      <th>operation</th>\n",
              "      <th>property_type</th>\n",
              "      <th>property_rooms</th>\n",
              "      <th>property_bedrooms</th>\n",
              "      <th>property_surface_total</th>\n",
              "      <th>property_surface_covered</th>\n",
              "      <th>property_price</th>\n",
              "      <th>property_currency</th>\n",
              "      <th>property_title</th>\n",
              "    </tr>\n",
              "  </thead>\n",
              "  <tbody>\n",
              "    <tr>\n",
              "      <th>0</th>\n",
              "      <td>XZq2dFGxBiboHY3Bo/tqlw==</td>\n",
              "      <td>2021-09-09</td>\n",
              "      <td>2022-01-27</td>\n",
              "      <td>2021-09-09</td>\n",
              "      <td>-38.957632</td>\n",
              "      <td>-68.105443</td>\n",
              "      <td>Neuquén</td>\n",
              "      <td>NaN</td>\n",
              "      <td>NaN</td>\n",
              "      <td>NaN</td>\n",
              "      <td>NaN</td>\n",
              "      <td>Venta</td>\n",
              "      <td>Casa</td>\n",
              "      <td>6.0</td>\n",
              "      <td>NaN</td>\n",
              "      <td>NaN</td>\n",
              "      <td>206.0</td>\n",
              "      <td>NaN</td>\n",
              "      <td>NaN</td>\n",
              "      <td>Casa - Capital</td>\n",
              "    </tr>\n",
              "    <tr>\n",
              "      <th>1</th>\n",
              "      <td>8afoK+yMH/rnnlYiktwgNA==</td>\n",
              "      <td>2021-09-09</td>\n",
              "      <td>2021-10-23</td>\n",
              "      <td>2021-09-09</td>\n",
              "      <td>-34.888878</td>\n",
              "      <td>-56.092368</td>\n",
              "      <td>Montevideo</td>\n",
              "      <td>NaN</td>\n",
              "      <td>NaN</td>\n",
              "      <td>NaN</td>\n",
              "      <td>NaN</td>\n",
              "      <td>Venta</td>\n",
              "      <td>Casa</td>\n",
              "      <td>4.0</td>\n",
              "      <td>3.0</td>\n",
              "      <td>193.0</td>\n",
              "      <td>193.0</td>\n",
              "      <td>390000.0</td>\n",
              "      <td>USD</td>\n",
              "      <td>Casa - Malvín</td>\n",
              "    </tr>\n",
              "    <tr>\n",
              "      <th>2</th>\n",
              "      <td>iVaG5rBB47dd1Ya4BMXREA==</td>\n",
              "      <td>2021-09-09</td>\n",
              "      <td>2022-03-09</td>\n",
              "      <td>2021-09-09</td>\n",
              "      <td>-32.488717</td>\n",
              "      <td>-58.257499</td>\n",
              "      <td>Entre Ríos</td>\n",
              "      <td>NaN</td>\n",
              "      <td>NaN</td>\n",
              "      <td>NaN</td>\n",
              "      <td>NaN</td>\n",
              "      <td>Venta</td>\n",
              "      <td>Casa</td>\n",
              "      <td>NaN</td>\n",
              "      <td>NaN</td>\n",
              "      <td>110.0</td>\n",
              "      <td>45.0</td>\n",
              "      <td>47000.0</td>\n",
              "      <td>USD</td>\n",
              "      <td>Casa - Uruguay</td>\n",
              "    </tr>\n",
              "    <tr>\n",
              "      <th>3</th>\n",
              "      <td>QE1QVMWKAHWkd0qT0FtPWA==</td>\n",
              "      <td>2021-09-09</td>\n",
              "      <td>2022-01-27</td>\n",
              "      <td>2021-09-09</td>\n",
              "      <td>-34.900165</td>\n",
              "      <td>-54.808453</td>\n",
              "      <td>Maldonado</td>\n",
              "      <td>NaN</td>\n",
              "      <td>NaN</td>\n",
              "      <td>NaN</td>\n",
              "      <td>NaN</td>\n",
              "      <td>Venta</td>\n",
              "      <td>Casa</td>\n",
              "      <td>NaN</td>\n",
              "      <td>3.0</td>\n",
              "      <td>NaN</td>\n",
              "      <td>180.0</td>\n",
              "      <td>400000.0</td>\n",
              "      <td>USD</td>\n",
              "      <td>Casa - El Chorro</td>\n",
              "    </tr>\n",
              "    <tr>\n",
              "      <th>4</th>\n",
              "      <td>tJ5lSk7IysG/71OGhacNZA==</td>\n",
              "      <td>2021-09-09</td>\n",
              "      <td>2022-01-27</td>\n",
              "      <td>2021-09-09</td>\n",
              "      <td>-38.954528</td>\n",
              "      <td>-68.041862</td>\n",
              "      <td>Neuquén</td>\n",
              "      <td>NaN</td>\n",
              "      <td>NaN</td>\n",
              "      <td>NaN</td>\n",
              "      <td>NaN</td>\n",
              "      <td>Venta</td>\n",
              "      <td>PH</td>\n",
              "      <td>3.0</td>\n",
              "      <td>2.0</td>\n",
              "      <td>NaN</td>\n",
              "      <td>98.0</td>\n",
              "      <td>102000.0</td>\n",
              "      <td>USD</td>\n",
              "      <td>PH - Villa Farrell</td>\n",
              "    </tr>\n",
              "    <tr>\n",
              "      <th>...</th>\n",
              "      <td>...</td>\n",
              "      <td>...</td>\n",
              "      <td>...</td>\n",
              "      <td>...</td>\n",
              "      <td>...</td>\n",
              "      <td>...</td>\n",
              "      <td>...</td>\n",
              "      <td>...</td>\n",
              "      <td>...</td>\n",
              "      <td>...</td>\n",
              "      <td>...</td>\n",
              "      <td>...</td>\n",
              "      <td>...</td>\n",
              "      <td>...</td>\n",
              "      <td>...</td>\n",
              "      <td>...</td>\n",
              "      <td>...</td>\n",
              "      <td>...</td>\n",
              "      <td>...</td>\n",
              "      <td>...</td>\n",
              "    </tr>\n",
              "    <tr>\n",
              "      <th>460149</th>\n",
              "      <td>EWHC/xcODFkeEA0+pPE6Rw==</td>\n",
              "      <td>2021-01-05</td>\n",
              "      <td>2021-01-08</td>\n",
              "      <td>2021-01-05</td>\n",
              "      <td>-34.599594</td>\n",
              "      <td>-58.588715</td>\n",
              "      <td>Bs.As. G.B.A. Zona Oeste</td>\n",
              "      <td>Tres de Febrero</td>\n",
              "      <td>NaN</td>\n",
              "      <td>NaN</td>\n",
              "      <td>NaN</td>\n",
              "      <td>Venta</td>\n",
              "      <td>Local comercial</td>\n",
              "      <td>NaN</td>\n",
              "      <td>NaN</td>\n",
              "      <td>113.0</td>\n",
              "      <td>113.0</td>\n",
              "      <td>190000.0</td>\n",
              "      <td>USD</td>\n",
              "      <td>LOCAL COMERCIAL MAS DE 100 MTS. - Ciudad jardín-</td>\n",
              "    </tr>\n",
              "    <tr>\n",
              "      <th>460150</th>\n",
              "      <td>txKUq0LjMaORjJQeeqTOfw==</td>\n",
              "      <td>2021-01-05</td>\n",
              "      <td>2021-11-01</td>\n",
              "      <td>2021-01-05</td>\n",
              "      <td>-34.582777</td>\n",
              "      <td>-58.545220</td>\n",
              "      <td>Bs.As. G.B.A. Zona Norte</td>\n",
              "      <td>General San Martín</td>\n",
              "      <td>Villa Lynch</td>\n",
              "      <td>NaN</td>\n",
              "      <td>NaN</td>\n",
              "      <td>Venta</td>\n",
              "      <td>Local comercial</td>\n",
              "      <td>NaN</td>\n",
              "      <td>NaN</td>\n",
              "      <td>11580.0</td>\n",
              "      <td>11580.0</td>\n",
              "      <td>3500000.0</td>\n",
              "      <td>USD</td>\n",
              "      <td>Nave Industrial - Villa Lynch</td>\n",
              "    </tr>\n",
              "    <tr>\n",
              "      <th>460151</th>\n",
              "      <td>E0zwHT18DX8AxhU22hXgng==</td>\n",
              "      <td>2021-01-05</td>\n",
              "      <td>2021-03-01</td>\n",
              "      <td>2021-01-05</td>\n",
              "      <td>NaN</td>\n",
              "      <td>NaN</td>\n",
              "      <td>Bs.As. G.B.A. Zona Norte</td>\n",
              "      <td>General San Martín</td>\n",
              "      <td>NaN</td>\n",
              "      <td>NaN</td>\n",
              "      <td>NaN</td>\n",
              "      <td>Venta</td>\n",
              "      <td>Local comercial</td>\n",
              "      <td>NaN</td>\n",
              "      <td>NaN</td>\n",
              "      <td>915.0</td>\n",
              "      <td>915.0</td>\n",
              "      <td>800000.0</td>\n",
              "      <td>USD</td>\n",
              "      <td>importante edificio comercial en tres plantas ...</td>\n",
              "    </tr>\n",
              "    <tr>\n",
              "      <th>460152</th>\n",
              "      <td>Ec4Tvy/WX5f6RgfaJf2FHQ==</td>\n",
              "      <td>2021-01-05</td>\n",
              "      <td>2021-11-28</td>\n",
              "      <td>2021-01-05</td>\n",
              "      <td>-33.226234</td>\n",
              "      <td>-60.331848</td>\n",
              "      <td>Santa Fe</td>\n",
              "      <td>Villa Constitución</td>\n",
              "      <td>NaN</td>\n",
              "      <td>NaN</td>\n",
              "      <td>NaN</td>\n",
              "      <td>Alquiler</td>\n",
              "      <td>Local comercial</td>\n",
              "      <td>NaN</td>\n",
              "      <td>NaN</td>\n",
              "      <td>NaN</td>\n",
              "      <td>15.0</td>\n",
              "      <td>NaN</td>\n",
              "      <td>NaN</td>\n",
              "      <td>Local - Villa Constitucion</td>\n",
              "    </tr>\n",
              "    <tr>\n",
              "      <th>460153</th>\n",
              "      <td>Y7KBafQ+e5noGh2Pio0xLg==</td>\n",
              "      <td>2021-01-05</td>\n",
              "      <td>9999-12-31</td>\n",
              "      <td>2021-01-05</td>\n",
              "      <td>-26.827938</td>\n",
              "      <td>-65.220708</td>\n",
              "      <td>Tucumán</td>\n",
              "      <td>San Miguel de Tucumán</td>\n",
              "      <td>NaN</td>\n",
              "      <td>NaN</td>\n",
              "      <td>NaN</td>\n",
              "      <td>Venta</td>\n",
              "      <td>Local comercial</td>\n",
              "      <td>1.0</td>\n",
              "      <td>NaN</td>\n",
              "      <td>243.0</td>\n",
              "      <td>133.0</td>\n",
              "      <td>160000.0</td>\n",
              "      <td>USD</td>\n",
              "      <td>Local - San Miguel De Tucumán</td>\n",
              "    </tr>\n",
              "  </tbody>\n",
              "</table>\n",
              "<p>460154 rows × 20 columns</p>\n",
              "</div>\n",
              "    <div class=\"colab-df-buttons\">\n",
              "\n",
              "  <div class=\"colab-df-container\">\n",
              "    <button class=\"colab-df-convert\" onclick=\"convertToInteractive('df-1508f04e-dc46-4320-8a8d-c2c69aa3aada')\"\n",
              "            title=\"Convert this dataframe to an interactive table.\"\n",
              "            style=\"display:none;\">\n",
              "\n",
              "  <svg xmlns=\"http://www.w3.org/2000/svg\" height=\"24px\" viewBox=\"0 -960 960 960\">\n",
              "    <path d=\"M120-120v-720h720v720H120Zm60-500h600v-160H180v160Zm220 220h160v-160H400v160Zm0 220h160v-160H400v160ZM180-400h160v-160H180v160Zm440 0h160v-160H620v160ZM180-180h160v-160H180v160Zm440 0h160v-160H620v160Z\"/>\n",
              "  </svg>\n",
              "    </button>\n",
              "\n",
              "  <style>\n",
              "    .colab-df-container {\n",
              "      display:flex;\n",
              "      gap: 12px;\n",
              "    }\n",
              "\n",
              "    .colab-df-convert {\n",
              "      background-color: #E8F0FE;\n",
              "      border: none;\n",
              "      border-radius: 50%;\n",
              "      cursor: pointer;\n",
              "      display: none;\n",
              "      fill: #1967D2;\n",
              "      height: 32px;\n",
              "      padding: 0 0 0 0;\n",
              "      width: 32px;\n",
              "    }\n",
              "\n",
              "    .colab-df-convert:hover {\n",
              "      background-color: #E2EBFA;\n",
              "      box-shadow: 0px 1px 2px rgba(60, 64, 67, 0.3), 0px 1px 3px 1px rgba(60, 64, 67, 0.15);\n",
              "      fill: #174EA6;\n",
              "    }\n",
              "\n",
              "    .colab-df-buttons div {\n",
              "      margin-bottom: 4px;\n",
              "    }\n",
              "\n",
              "    [theme=dark] .colab-df-convert {\n",
              "      background-color: #3B4455;\n",
              "      fill: #D2E3FC;\n",
              "    }\n",
              "\n",
              "    [theme=dark] .colab-df-convert:hover {\n",
              "      background-color: #434B5C;\n",
              "      box-shadow: 0px 1px 3px 1px rgba(0, 0, 0, 0.15);\n",
              "      filter: drop-shadow(0px 1px 2px rgba(0, 0, 0, 0.3));\n",
              "      fill: #FFFFFF;\n",
              "    }\n",
              "  </style>\n",
              "\n",
              "    <script>\n",
              "      const buttonEl =\n",
              "        document.querySelector('#df-1508f04e-dc46-4320-8a8d-c2c69aa3aada button.colab-df-convert');\n",
              "      buttonEl.style.display =\n",
              "        google.colab.kernel.accessAllowed ? 'block' : 'none';\n",
              "\n",
              "      async function convertToInteractive(key) {\n",
              "        const element = document.querySelector('#df-1508f04e-dc46-4320-8a8d-c2c69aa3aada');\n",
              "        const dataTable =\n",
              "          await google.colab.kernel.invokeFunction('convertToInteractive',\n",
              "                                                    [key], {});\n",
              "        if (!dataTable) return;\n",
              "\n",
              "        const docLinkHtml = 'Like what you see? Visit the ' +\n",
              "          '<a target=\"_blank\" href=https://colab.research.google.com/notebooks/data_table.ipynb>data table notebook</a>'\n",
              "          + ' to learn more about interactive tables.';\n",
              "        element.innerHTML = '';\n",
              "        dataTable['output_type'] = 'display_data';\n",
              "        await google.colab.output.renderOutput(dataTable, element);\n",
              "        const docLink = document.createElement('div');\n",
              "        docLink.innerHTML = docLinkHtml;\n",
              "        element.appendChild(docLink);\n",
              "      }\n",
              "    </script>\n",
              "  </div>\n",
              "\n",
              "\n",
              "<div id=\"df-7eb23b3a-be72-4f63-abe9-29dee5ea8458\">\n",
              "  <button class=\"colab-df-quickchart\" onclick=\"quickchart('df-7eb23b3a-be72-4f63-abe9-29dee5ea8458')\"\n",
              "            title=\"Suggest charts\"\n",
              "            style=\"display:none;\">\n",
              "\n",
              "<svg xmlns=\"http://www.w3.org/2000/svg\" height=\"24px\"viewBox=\"0 0 24 24\"\n",
              "     width=\"24px\">\n",
              "    <g>\n",
              "        <path d=\"M19 3H5c-1.1 0-2 .9-2 2v14c0 1.1.9 2 2 2h14c1.1 0 2-.9 2-2V5c0-1.1-.9-2-2-2zM9 17H7v-7h2v7zm4 0h-2V7h2v10zm4 0h-2v-4h2v4z\"/>\n",
              "    </g>\n",
              "</svg>\n",
              "  </button>\n",
              "\n",
              "<style>\n",
              "  .colab-df-quickchart {\n",
              "      --bg-color: #E8F0FE;\n",
              "      --fill-color: #1967D2;\n",
              "      --hover-bg-color: #E2EBFA;\n",
              "      --hover-fill-color: #174EA6;\n",
              "      --disabled-fill-color: #AAA;\n",
              "      --disabled-bg-color: #DDD;\n",
              "  }\n",
              "\n",
              "  [theme=dark] .colab-df-quickchart {\n",
              "      --bg-color: #3B4455;\n",
              "      --fill-color: #D2E3FC;\n",
              "      --hover-bg-color: #434B5C;\n",
              "      --hover-fill-color: #FFFFFF;\n",
              "      --disabled-bg-color: #3B4455;\n",
              "      --disabled-fill-color: #666;\n",
              "  }\n",
              "\n",
              "  .colab-df-quickchart {\n",
              "    background-color: var(--bg-color);\n",
              "    border: none;\n",
              "    border-radius: 50%;\n",
              "    cursor: pointer;\n",
              "    display: none;\n",
              "    fill: var(--fill-color);\n",
              "    height: 32px;\n",
              "    padding: 0;\n",
              "    width: 32px;\n",
              "  }\n",
              "\n",
              "  .colab-df-quickchart:hover {\n",
              "    background-color: var(--hover-bg-color);\n",
              "    box-shadow: 0 1px 2px rgba(60, 64, 67, 0.3), 0 1px 3px 1px rgba(60, 64, 67, 0.15);\n",
              "    fill: var(--button-hover-fill-color);\n",
              "  }\n",
              "\n",
              "  .colab-df-quickchart-complete:disabled,\n",
              "  .colab-df-quickchart-complete:disabled:hover {\n",
              "    background-color: var(--disabled-bg-color);\n",
              "    fill: var(--disabled-fill-color);\n",
              "    box-shadow: none;\n",
              "  }\n",
              "\n",
              "  .colab-df-spinner {\n",
              "    border: 2px solid var(--fill-color);\n",
              "    border-color: transparent;\n",
              "    border-bottom-color: var(--fill-color);\n",
              "    animation:\n",
              "      spin 1s steps(1) infinite;\n",
              "  }\n",
              "\n",
              "  @keyframes spin {\n",
              "    0% {\n",
              "      border-color: transparent;\n",
              "      border-bottom-color: var(--fill-color);\n",
              "      border-left-color: var(--fill-color);\n",
              "    }\n",
              "    20% {\n",
              "      border-color: transparent;\n",
              "      border-left-color: var(--fill-color);\n",
              "      border-top-color: var(--fill-color);\n",
              "    }\n",
              "    30% {\n",
              "      border-color: transparent;\n",
              "      border-left-color: var(--fill-color);\n",
              "      border-top-color: var(--fill-color);\n",
              "      border-right-color: var(--fill-color);\n",
              "    }\n",
              "    40% {\n",
              "      border-color: transparent;\n",
              "      border-right-color: var(--fill-color);\n",
              "      border-top-color: var(--fill-color);\n",
              "    }\n",
              "    60% {\n",
              "      border-color: transparent;\n",
              "      border-right-color: var(--fill-color);\n",
              "    }\n",
              "    80% {\n",
              "      border-color: transparent;\n",
              "      border-right-color: var(--fill-color);\n",
              "      border-bottom-color: var(--fill-color);\n",
              "    }\n",
              "    90% {\n",
              "      border-color: transparent;\n",
              "      border-bottom-color: var(--fill-color);\n",
              "    }\n",
              "  }\n",
              "</style>\n",
              "\n",
              "  <script>\n",
              "    async function quickchart(key) {\n",
              "      const quickchartButtonEl =\n",
              "        document.querySelector('#' + key + ' button');\n",
              "      quickchartButtonEl.disabled = true;  // To prevent multiple clicks.\n",
              "      quickchartButtonEl.classList.add('colab-df-spinner');\n",
              "      try {\n",
              "        const charts = await google.colab.kernel.invokeFunction(\n",
              "            'suggestCharts', [key], {});\n",
              "      } catch (error) {\n",
              "        console.error('Error during call to suggestCharts:', error);\n",
              "      }\n",
              "      quickchartButtonEl.classList.remove('colab-df-spinner');\n",
              "      quickchartButtonEl.classList.add('colab-df-quickchart-complete');\n",
              "    }\n",
              "    (() => {\n",
              "      let quickchartButtonEl =\n",
              "        document.querySelector('#df-7eb23b3a-be72-4f63-abe9-29dee5ea8458 button');\n",
              "      quickchartButtonEl.style.display =\n",
              "        google.colab.kernel.accessAllowed ? 'block' : 'none';\n",
              "    })();\n",
              "  </script>\n",
              "</div>\n",
              "    </div>\n",
              "  </div>\n"
            ]
          },
          "metadata": {},
          "execution_count": 2
        }
      ],
      "source": [
        "propiedades=\"https://raw.githubusercontent.com/bloisejuli/Datos1-CUDI/main/datasets/properati_argentina_2021.csv\"\n",
        "df = pd.read_csv(propiedades)\n",
        "df"
      ]
    },
    {
      "cell_type": "markdown",
      "metadata": {
        "id": "8KgbNlhFSkC3"
      },
      "source": [
        "Voy a cambiar el Id por numeros enteros auto incrementables.\n",
        "<br>\n",
        "Para esto voy a  eliminar la columna id actual y reemplazarla por una nueva que cumpla con mi objetivo."
      ]
    },
    {
      "cell_type": "code",
      "execution_count": null,
      "metadata": {
        "id": "ttqtgWs4TuI2"
      },
      "outputs": [],
      "source": [
        "df = df.drop('id', axis=1)"
      ]
    },
    {
      "cell_type": "code",
      "execution_count": null,
      "metadata": {
        "id": "-nNo1H2cUAh9"
      },
      "outputs": [],
      "source": [
        "# Creo la nueva columna 'Id' con números enteros autoincrementables\n",
        "df['Id'] = range(1, len(df) + 1)\n",
        "\n",
        "# Muevo la columna 'Id' al principio del DataFrame\n",
        "columnas = ['Id'] + [col for col in df if col != 'Id']\n",
        "df = df[columnas]"
      ]
    },
    {
      "cell_type": "markdown",
      "metadata": {
        "id": "3AZWWtWKIWma"
      },
      "source": [
        "Utilizo \".info()\" para ver las caracteristicas del dataframe y encontrar valores nulos."
      ]
    },
    {
      "cell_type": "code",
      "execution_count": null,
      "metadata": {
        "colab": {
          "base_uri": "https://localhost:8080/"
        },
        "id": "i5H9BaiAU446",
        "outputId": "dfbc1e6e-722f-4526-de7e-208f90c6d90b"
      },
      "outputs": [
        {
          "output_type": "stream",
          "name": "stdout",
          "text": [
            "<class 'pandas.core.frame.DataFrame'>\n",
            "RangeIndex: 460154 entries, 0 to 460153\n",
            "Data columns (total 20 columns):\n",
            " #   Column                    Non-Null Count   Dtype  \n",
            "---  ------                    --------------   -----  \n",
            " 0   Id                        460154 non-null  int64  \n",
            " 1   start_date                460154 non-null  object \n",
            " 2   end_date                  460154 non-null  object \n",
            " 3   created_on                460154 non-null  object \n",
            " 4   latitud                   419740 non-null  float64\n",
            " 5   longitud                  419740 non-null  float64\n",
            " 6   place_l2                  460154 non-null  object \n",
            " 7   place_l3                  437665 non-null  object \n",
            " 8   place_l4                  139020 non-null  object \n",
            " 9   place_l5                  2430 non-null    object \n",
            " 10  place_l6                  0 non-null       float64\n",
            " 11  operation                 460154 non-null  object \n",
            " 12  property_type             460154 non-null  object \n",
            " 13  property_rooms            368498 non-null  float64\n",
            " 14  property_bedrooms         344113 non-null  float64\n",
            " 15  property_surface_total    397813 non-null  float64\n",
            " 16  property_surface_covered  427916 non-null  float64\n",
            " 17  property_price            442153 non-null  float64\n",
            " 18  property_currency         441590 non-null  object \n",
            " 19  property_title            460154 non-null  object \n",
            "dtypes: float64(8), int64(1), object(11)\n",
            "memory usage: 70.2+ MB\n"
          ]
        }
      ],
      "source": [
        "df.info()"
      ]
    },
    {
      "cell_type": "markdown",
      "metadata": {
        "id": "0JVXO74gw4O2"
      },
      "source": [
        "Para empezar, quiero ver que tipo de operaciones se realizan. Para eso, voy a contar los datos por su operación con \".value_counts()\"."
      ]
    },
    {
      "cell_type": "code",
      "execution_count": null,
      "metadata": {
        "colab": {
          "base_uri": "https://localhost:8080/",
          "height": 579
        },
        "id": "6AXIlzFVwz7X",
        "outputId": "64381668-69e9-4278-f76a-b3b2dad194ce"
      },
      "outputs": [
        {
          "output_type": "display_data",
          "data": {
            "text/plain": [
              "<Figure size 640x480 with 1 Axes>"
            ],
            "image/png": "[encoded data removed]"
          },
          "metadata": {}
        }
      ],
      "source": [
        "operacion= df['operation'].value_counts()\n",
        "operacion.plot(kind='bar')\n",
        "plt.xlabel('Operación')\n",
        "plt.ylabel('Cantidad de Registros')\n",
        "plt.title('Distribución de Operaciones')\n",
        "plt.show()"
      ]
    },
    {
      "cell_type": "markdown",
      "metadata": {
        "id": "pBm4VYB7IX4R"
      },
      "source": [
        "Hago lo mismo pero con los tipos de viviendas."
      ]
    },
    {
      "cell_type": "code",
      "execution_count": null,
      "metadata": {
        "colab": {
          "base_uri": "https://localhost:8080/",
          "height": 566
        },
        "id": "sYTiZzppB8Ic",
        "outputId": "fcaba2d2-3738-4c5f-f95c-398c90188937"
      },
      "outputs": [
        {
          "output_type": "display_data",
          "data": {
            "text/plain": [
              "<Figure size 640x480 with 1 Axes>"
            ],
            "image/png": "[encoded data removed]"
          },
          "metadata": {}
        }
      ],
      "source": [
        "operacion= df['property_type'].value_counts()\n",
        "operacion.plot(kind='bar',color=\"red\")\n",
        "plt.xlabel('Tipo de Propiedad')\n",
        "plt.ylabel('Cantidad de Registros')\n",
        "plt.title('Tipos de Propiedades')\n",
        "plt.show()"
      ]
    },
    {
      "cell_type": "markdown",
      "metadata": {
        "id": "NggAmWsl9xti"
      },
      "source": [
        "Voy a mostrar como se distribuye el tipo de moneda utilizada en las operaciones.\n",
        "Primero voy a crear una variable para guardar el tipo de moneda, esto lo hago con \".value_counts()\" y luego voy a crear un grafico de barras."
      ]
    },
    {
      "cell_type": "code",
      "execution_count": null,
      "metadata": {
        "colab": {
          "base_uri": "https://localhost:8080/",
          "height": 580
        },
        "id": "295Mf8QfvQqy",
        "outputId": "294c75e7-4560-4208-9bc1-eb0b7dfff401"
      },
      "outputs": [
        {
          "output_type": "display_data",
          "data": {
            "text/plain": [
              "<Figure size 1000x600 with 1 Axes>"
            ],
            "image/png": "[encoded data removed]"
          },
          "metadata": {}
        }
      ],
      "source": [
        "tipo_moneda = df['property_currency'].value_counts()\n",
        "plt.figure(figsize=(10, 6))\n",
        "tipo_moneda.plot(kind='bar')\n",
        "\n",
        "for i, count in enumerate(tipo_moneda):\n",
        "    plt.text(i, count, f'{count} ({count/len(df)*100:.1f}%)', ha='center', va='bottom')\n",
        "\n",
        "plt.title('Distribución de Monedas en Operaciones de Propiedades')\n",
        "plt.xlabel('Moneda')\n",
        "plt.ylabel('Cantidad de Operaciones')\n",
        "\n",
        "plt.show()"
      ]
    },
    {
      "cell_type": "markdown",
      "metadata": {
        "id": "igCkG4zDvck5"
      },
      "source": [
        "Del anterior grafico, podemos apreciar como 3/4 partes del mercado inmobiliario argentino esta dolarizado.\n",
        "Esto dificulta el acceso a una vivienda debido a la precaria situacion economica y laboral."
      ]
    },
    {
      "cell_type": "code",
      "execution_count": null,
      "metadata": {
        "colab": {
          "base_uri": "https://localhost:8080/",
          "height": 675
        },
        "id": "r77pe9ZHMglp",
        "outputId": "e5b89e5b-7325-4d4f-9a3c-bfa74511277b"
      },
      "outputs": [
        {
          "output_type": "display_data",
          "data": {
            "text/plain": [
              "<Figure size 800x800 with 1 Axes>"
            ],
            "image/png": "[encoded data removed]"
          },
          "metadata": {}
        }
      ],
      "source": [
        "operaciones_en_usd = df[df['property_currency'] == 'USD']\n",
        "\n",
        "plt.figure(figsize=(8, 8))\n",
        "plt.pie(operaciones_en_usd['operation'].value_counts(), labels=operaciones_en_usd['operation'].value_counts().index, autopct='%1.1f%%', startangle=140)\n",
        "\n",
        "plt.title('Distribución de Operaciones en Moneda USD')\n",
        "\n",
        "plt.show()"
      ]
    },
    {
      "cell_type": "markdown",
      "metadata": {
        "id": "nxE-w4CWOgti"
      },
      "source": [
        "Primero, voy a filtrar las propiedades segun su tipo de vivienda, quiero obtener las que son Casa, PH y Departamento."
      ]
    },
    {
      "cell_type": "code",
      "execution_count": null,
      "metadata": {
        "id": "PpwYtb85Or37"
      },
      "outputs": [],
      "source": [
        "viviendas = df[df['property_type'].isin(['Casa', 'PH', 'Departamento'])]"
      ]
    },
    {
      "cell_type": "markdown",
      "metadata": {
        "id": "30yRhF_kOxCi"
      },
      "source": [
        "Ahora, las filtro según su ubicación, quiero las de Capital Federal."
      ]
    },
    {
      "cell_type": "code",
      "execution_count": null,
      "metadata": {
        "id": "GkHfiO-0O54J"
      },
      "outputs": [],
      "source": [
        "capital_federal = viviendas[viviendas['place_l2'] == 'Capital Federal']"
      ]
    },
    {
      "cell_type": "markdown",
      "metadata": {
        "id": "o0oUeFhgQS41"
      },
      "source": [
        "Para terminar, filtro las propiedades por su operación para trabajar con las propiedades que esten en venta y cuyo precio esté en USD."
      ]
    },
    {
      "cell_type": "code",
      "execution_count": null,
      "metadata": {
        "id": "kn0Wbm5LOfzz"
      },
      "outputs": [],
      "source": [
        "propiedades_venta_usd = capital_federal[(capital_federal['operation'] == 'Venta') & (capital_federal['property_currency'] == 'USD')]"
      ]
    },
    {
      "cell_type": "markdown",
      "metadata": {
        "id": "oIZeErFBZutg"
      },
      "source": [
        "Para trabajar comodamente, voy a crear un nuevo dataframe con la información filtrada previamente."
      ]
    },
    {
      "cell_type": "code",
      "execution_count": null,
      "metadata": {
        "id": "ASz3GHy1Z8C4"
      },
      "outputs": [],
      "source": [
        "nuevo_df = propiedades_venta_usd[['Id','property_type', 'place_l2','place_l3','property_rooms','property_bedrooms','property_surface_total','property_surface_covered','property_price', 'property_currency']]"
      ]
    },
    {
      "cell_type": "code",
      "execution_count": null,
      "metadata": {
        "colab": {
          "base_uri": "https://localhost:8080/",
          "height": 617
        },
        "id": "8_v3NcMVaNPf",
        "outputId": "0e2ce4f9-e4d9-4029-a4b1-d89dbb751fae"
      },
      "outputs": [
        {
          "output_type": "execute_result",
          "data": {
            "text/plain": [
              "            Id property_type         place_l2              place_l3  \\\n",
              "25          26          Casa  Capital Federal                   NaN   \n",
              "42          43  Departamento  Capital Federal                  Boca   \n",
              "43          44  Departamento  Capital Federal                  Boca   \n",
              "49          50  Departamento  Capital Federal                  Once   \n",
              "51          52            PH  Capital Federal                 Boedo   \n",
              "...        ...           ...              ...                   ...   \n",
              "460072  460073  Departamento  Capital Federal      Villa del Parque   \n",
              "460073  460074  Departamento  Capital Federal      Villa del Parque   \n",
              "460074  460075  Departamento  Capital Federal      Villa del Parque   \n",
              "460075  460076  Departamento  Capital Federal      Villa del Parque   \n",
              "460090  460091  Departamento  Capital Federal  Centro / Microcentro   \n",
              "\n",
              "        property_rooms  property_bedrooms  property_surface_total  \\\n",
              "25                 4.0                3.0                   171.0   \n",
              "42                 3.0                2.0                    58.0   \n",
              "43                 4.0                3.0                    70.0   \n",
              "49                 4.0                2.0                     NaN   \n",
              "51                 4.0                2.0                     NaN   \n",
              "...                ...                ...                     ...   \n",
              "460072             4.0                3.0                   130.0   \n",
              "460073             3.0                2.0                    68.0   \n",
              "460074             1.0                1.0                    51.0   \n",
              "460075             1.0                1.0                    37.0   \n",
              "460090             2.0                1.0                    84.0   \n",
              "\n",
              "        property_surface_covered  property_price property_currency  \n",
              "25                         133.0        210000.0               USD  \n",
              "42                          55.0         82900.0               USD  \n",
              "43                          70.0         99000.0               USD  \n",
              "49                         104.0        146000.0               USD  \n",
              "51                          73.0        250000.0               USD  \n",
              "...                          ...             ...               ...  \n",
              "460072                     100.0        220000.0               USD  \n",
              "460073                      60.0        161000.0               USD  \n",
              "460074                      30.0         75500.0               USD  \n",
              "460075                      31.0         74500.0               USD  \n",
              "460090                      84.0        135000.0               USD  \n",
              "\n",
              "[94249 rows x 10 columns]"
            ],
            "text/html": [
              "\n",
              "  <div id=\"df-0285d3b2-9972-48d3-ba5f-b8a7d6342c5e\" class=\"colab-df-container\">\n",
              "    <div>\n",
              "<style scoped>\n",
              "    .dataframe tbody tr th:only-of-type {\n",
              "        vertical-align: middle;\n",
              "    }\n",
              "\n",
              "    .dataframe tbody tr th {\n",
              "        vertical-align: top;\n",
              "    }\n",
              "\n",
              "    .dataframe thead th {\n",
              "        text-align: right;\n",
              "    }\n",
              "</style>\n",
              "<table border=\"1\" class=\"dataframe\">\n",
              "  <thead>\n",
              "    <tr style=\"text-align: right;\">\n",
              "      <th></th>\n",
              "      <th>Id</th>\n",
              "      <th>property_type</th>\n",
              "      <th>place_l2</th>\n",
              "      <th>place_l3</th>\n",
              "      <th>property_rooms</th>\n",
              "      <th>property_bedrooms</th>\n",
              "      <th>property_surface_total</th>\n",
              "      <th>property_surface_covered</th>\n",
              "      <th>property_price</th>\n",
              "      <th>property_currency</th>\n",
              "    </tr>\n",
              "  </thead>\n",
              "  <tbody>\n",
              "    <tr>\n",
              "      <th>25</th>\n",
              "      <td>26</td>\n",
              "      <td>Casa</td>\n",
              "      <td>Capital Federal</td>\n",
              "      <td>NaN</td>\n",
              "      <td>4.0</td>\n",
              "      <td>3.0</td>\n",
              "      <td>171.0</td>\n",
              "      <td>133.0</td>\n",
              "      <td>210000.0</td>\n",
              "      <td>USD</td>\n",
              "    </tr>\n",
              "    <tr>\n",
              "      <th>42</th>\n",
              "      <td>43</td>\n",
              "      <td>Departamento</td>\n",
              "      <td>Capital Federal</td>\n",
              "      <td>Boca</td>\n",
              "      <td>3.0</td>\n",
              "      <td>2.0</td>\n",
              "      <td>58.0</td>\n",
              "      <td>55.0</td>\n",
              "      <td>82900.0</td>\n",
              "      <td>USD</td>\n",
              "    </tr>\n",
              "    <tr>\n",
              "      <th>43</th>\n",
              "      <td>44</td>\n",
              "      <td>Departamento</td>\n",
              "      <td>Capital Federal</td>\n",
              "      <td>Boca</td>\n",
              "      <td>4.0</td>\n",
              "      <td>3.0</td>\n",
              "      <td>70.0</td>\n",
              "      <td>70.0</td>\n",
              "      <td>99000.0</td>\n",
              "      <td>USD</td>\n",
              "    </tr>\n",
              "    <tr>\n",
              "      <th>49</th>\n",
              "      <td>50</td>\n",
              "      <td>Departamento</td>\n",
              "      <td>Capital Federal</td>\n",
              "      <td>Once</td>\n",
              "      <td>4.0</td>\n",
              "      <td>2.0</td>\n",
              "      <td>NaN</td>\n",
              "      <td>104.0</td>\n",
              "      <td>146000.0</td>\n",
              "      <td>USD</td>\n",
              "    </tr>\n",
              "    <tr>\n",
              "      <th>51</th>\n",
              "      <td>52</td>\n",
              "      <td>PH</td>\n",
              "      <td>Capital Federal</td>\n",
              "      <td>Boedo</td>\n",
              "      <td>4.0</td>\n",
              "      <td>2.0</td>\n",
              "      <td>NaN</td>\n",
              "      <td>73.0</td>\n",
              "      <td>250000.0</td>\n",
              "      <td>USD</td>\n",
              "    </tr>\n",
              "    <tr>\n",
              "      <th>...</th>\n",
              "      <td>...</td>\n",
              "      <td>...</td>\n",
              "      <td>...</td>\n",
              "      <td>...</td>\n",
              "      <td>...</td>\n",
              "      <td>...</td>\n",
              "      <td>...</td>\n",
              "      <td>...</td>\n",
              "      <td>...</td>\n",
              "      <td>...</td>\n",
              "    </tr>\n",
              "    <tr>\n",
              "      <th>460072</th>\n",
              "      <td>460073</td>\n",
              "      <td>Departamento</td>\n",
              "      <td>Capital Federal</td>\n",
              "      <td>Villa del Parque</td>\n",
              "      <td>4.0</td>\n",
              "      <td>3.0</td>\n",
              "      <td>130.0</td>\n",
              "      <td>100.0</td>\n",
              "      <td>220000.0</td>\n",
              "      <td>USD</td>\n",
              "    </tr>\n",
              "    <tr>\n",
              "      <th>460073</th>\n",
              "      <td>460074</td>\n",
              "      <td>Departamento</td>\n",
              "      <td>Capital Federal</td>\n",
              "      <td>Villa del Parque</td>\n",
              "      <td>3.0</td>\n",
              "      <td>2.0</td>\n",
              "      <td>68.0</td>\n",
              "      <td>60.0</td>\n",
              "      <td>161000.0</td>\n",
              "      <td>USD</td>\n",
              "    </tr>\n",
              "    <tr>\n",
              "      <th>460074</th>\n",
              "      <td>460075</td>\n",
              "      <td>Departamento</td>\n",
              "      <td>Capital Federal</td>\n",
              "      <td>Villa del Parque</td>\n",
              "      <td>1.0</td>\n",
              "      <td>1.0</td>\n",
              "      <td>51.0</td>\n",
              "      <td>30.0</td>\n",
              "      <td>75500.0</td>\n",
              "      <td>USD</td>\n",
              "    </tr>\n",
              "    <tr>\n",
              "      <th>460075</th>\n",
              "      <td>460076</td>\n",
              "      <td>Departamento</td>\n",
              "      <td>Capital Federal</td>\n",
              "      <td>Villa del Parque</td>\n",
              "      <td>1.0</td>\n",
              "      <td>1.0</td>\n",
              "      <td>37.0</td>\n",
              "      <td>31.0</td>\n",
              "      <td>74500.0</td>\n",
              "      <td>USD</td>\n",
              "    </tr>\n",
              "    <tr>\n",
              "      <th>460090</th>\n",
              "      <td>460091</td>\n",
              "      <td>Departamento</td>\n",
              "      <td>Capital Federal</td>\n",
              "      <td>Centro / Microcentro</td>\n",
              "      <td>2.0</td>\n",
              "      <td>1.0</td>\n",
              "      <td>84.0</td>\n",
              "      <td>84.0</td>\n",
              "      <td>135000.0</td>\n",
              "      <td>USD</td>\n",
              "    </tr>\n",
              "  </tbody>\n",
              "</table>\n",
              "<p>94249 rows × 10 columns</p>\n",
              "</div>\n",
              "    <div class=\"colab-df-buttons\">\n",
              "\n",
              "  <div class=\"colab-df-container\">\n",
              "    <button class=\"colab-df-convert\" onclick=\"convertToInteractive('df-0285d3b2-9972-48d3-ba5f-b8a7d6342c5e')\"\n",
              "            title=\"Convert this dataframe to an interactive table.\"\n",
              "            style=\"display:none;\">\n",
              "\n",
              "  <svg xmlns=\"http://www.w3.org/2000/svg\" height=\"24px\" viewBox=\"0 -960 960 960\">\n",
              "    <path d=\"M120-120v-720h720v720H120Zm60-500h600v-160H180v160Zm220 220h160v-160H400v160Zm0 220h160v-160H400v160ZM180-400h160v-160H180v160Zm440 0h160v-160H620v160ZM180-180h160v-160H180v160Zm440 0h160v-160H620v160Z\"/>\n",
              "  </svg>\n",
              "    </button>\n",
              "\n",
              "  <style>\n",
              "    .colab-df-container {\n",
              "      display:flex;\n",
              "      gap: 12px;\n",
              "    }\n",
              "\n",
              "    .colab-df-convert {\n",
              "      background-color: #E8F0FE;\n",
              "      border: none;\n",
              "      border-radius: 50%;\n",
              "      cursor: pointer;\n",
              "      display: none;\n",
              "      fill: #1967D2;\n",
              "      height: 32px;\n",
              "      padding: 0 0 0 0;\n",
              "      width: 32px;\n",
              "    }\n",
              "\n",
              "    .colab-df-convert:hover {\n",
              "      background-color: #E2EBFA;\n",
              "      box-shadow: 0px 1px 2px rgba(60, 64, 67, 0.3), 0px 1px 3px 1px rgba(60, 64, 67, 0.15);\n",
              "      fill: #174EA6;\n",
              "    }\n",
              "\n",
              "    .colab-df-buttons div {\n",
              "      margin-bottom: 4px;\n",
              "    }\n",
              "\n",
              "    [theme=dark] .colab-df-convert {\n",
              "      background-color: #3B4455;\n",
              "      fill: #D2E3FC;\n",
              "    }\n",
              "\n",
              "    [theme=dark] .colab-df-convert:hover {\n",
              "      background-color: #434B5C;\n",
              "      box-shadow: 0px 1px 3px 1px rgba(0, 0, 0, 0.15);\n",
              "      filter: drop-shadow(0px 1px 2px rgba(0, 0, 0, 0.3));\n",
              "      fill: #FFFFFF;\n",
              "    }\n",
              "  </style>\n",
              "\n",
              "    <script>\n",
              "      const buttonEl =\n",
              "        document.querySelector('#df-0285d3b2-9972-48d3-ba5f-b8a7d6342c5e button.colab-df-convert');\n",
              "      buttonEl.style.display =\n",
              "        google.colab.kernel.accessAllowed ? 'block' : 'none';\n",
              "\n",
              "      async function convertToInteractive(key) {\n",
              "        const element = document.querySelector('#df-0285d3b2-9972-48d3-ba5f-b8a7d6342c5e');\n",
              "        const dataTable =\n",
              "          await google.colab.kernel.invokeFunction('convertToInteractive',\n",
              "                                                    [key], {});\n",
              "        if (!dataTable) return;\n",
              "\n",
              "        const docLinkHtml = 'Like what you see? Visit the ' +\n",
              "          '<a target=\"_blank\" href=https://colab.research.google.com/notebooks/data_table.ipynb>data table notebook</a>'\n",
              "          + ' to learn more about interactive tables.';\n",
              "        element.innerHTML = '';\n",
              "        dataTable['output_type'] = 'display_data';\n",
              "        await google.colab.output.renderOutput(dataTable, element);\n",
              "        const docLink = document.createElement('div');\n",
              "        docLink.innerHTML = docLinkHtml;\n",
              "        element.appendChild(docLink);\n",
              "      }\n",
              "    </script>\n",
              "  </div>\n",
              "\n",
              "\n",
              "<div id=\"df-ab2e66ed-7839-4a5a-8367-8f1cf8f9126a\">\n",
              "  <button class=\"colab-df-quickchart\" onclick=\"quickchart('df-ab2e66ed-7839-4a5a-8367-8f1cf8f9126a')\"\n",
              "            title=\"Suggest charts\"\n",
              "            style=\"display:none;\">\n",
              "\n",
              "<svg xmlns=\"http://www.w3.org/2000/svg\" height=\"24px\"viewBox=\"0 0 24 24\"\n",
              "     width=\"24px\">\n",
              "    <g>\n",
              "        <path d=\"M19 3H5c-1.1 0-2 .9-2 2v14c0 1.1.9 2 2 2h14c1.1 0 2-.9 2-2V5c0-1.1-.9-2-2-2zM9 17H7v-7h2v7zm4 0h-2V7h2v10zm4 0h-2v-4h2v4z\"/>\n",
              "    </g>\n",
              "</svg>\n",
              "  </button>\n",
              "\n",
              "<style>\n",
              "  .colab-df-quickchart {\n",
              "      --bg-color: #E8F0FE;\n",
              "      --fill-color: #1967D2;\n",
              "      --hover-bg-color: #E2EBFA;\n",
              "      --hover-fill-color: #174EA6;\n",
              "      --disabled-fill-color: #AAA;\n",
              "      --disabled-bg-color: #DDD;\n",
              "  }\n",
              "\n",
              "  [theme=dark] .colab-df-quickchart {\n",
              "      --bg-color: #3B4455;\n",
              "      --fill-color: #D2E3FC;\n",
              "      --hover-bg-color: #434B5C;\n",
              "      --hover-fill-color: #FFFFFF;\n",
              "      --disabled-bg-color: #3B4455;\n",
              "      --disabled-fill-color: #666;\n",
              "  }\n",
              "\n",
              "  .colab-df-quickchart {\n",
              "    background-color: var(--bg-color);\n",
              "    border: none;\n",
              "    border-radius: 50%;\n",
              "    cursor: pointer;\n",
              "    display: none;\n",
              "    fill: var(--fill-color);\n",
              "    height: 32px;\n",
              "    padding: 0;\n",
              "    width: 32px;\n",
              "  }\n",
              "\n",
              "  .colab-df-quickchart:hover {\n",
              "    background-color: var(--hover-bg-color);\n",
              "    box-shadow: 0 1px 2px rgba(60, 64, 67, 0.3), 0 1px 3px 1px rgba(60, 64, 67, 0.15);\n",
              "    fill: var(--button-hover-fill-color);\n",
              "  }\n",
              "\n",
              "  .colab-df-quickchart-complete:disabled,\n",
              "  .colab-df-quickchart-complete:disabled:hover {\n",
              "    background-color: var(--disabled-bg-color);\n",
              "    fill: var(--disabled-fill-color);\n",
              "    box-shadow: none;\n",
              "  }\n",
              "\n",
              "  .colab-df-spinner {\n",
              "    border: 2px solid var(--fill-color);\n",
              "    border-color: transparent;\n",
              "    border-bottom-color: var(--fill-color);\n",
              "    animation:\n",
              "      spin 1s steps(1) infinite;\n",
              "  }\n",
              "\n",
              "  @keyframes spin {\n",
              "    0% {\n",
              "      border-color: transparent;\n",
              "      border-bottom-color: var(--fill-color);\n",
              "      border-left-color: var(--fill-color);\n",
              "    }\n",
              "    20% {\n",
              "      border-color: transparent;\n",
              "      border-left-color: var(--fill-color);\n",
              "      border-top-color: var(--fill-color);\n",
              "    }\n",
              "    30% {\n",
              "      border-color: transparent;\n",
              "      border-left-color: var(--fill-color);\n",
              "      border-top-color: var(--fill-color);\n",
              "      border-right-color: var(--fill-color);\n",
              "    }\n",
              "    40% {\n",
              "      border-color: transparent;\n",
              "      border-right-color: var(--fill-color);\n",
              "      border-top-color: var(--fill-color);\n",
              "    }\n",
              "    60% {\n",
              "      border-color: transparent;\n",
              "      border-right-color: var(--fill-color);\n",
              "    }\n",
              "    80% {\n",
              "      border-color: transparent;\n",
              "      border-right-color: var(--fill-color);\n",
              "      border-bottom-color: var(--fill-color);\n",
              "    }\n",
              "    90% {\n",
              "      border-color: transparent;\n",
              "      border-bottom-color: var(--fill-color);\n",
              "    }\n",
              "  }\n",
              "</style>\n",
              "\n",
              "  <script>\n",
              "    async function quickchart(key) {\n",
              "      const quickchartButtonEl =\n",
              "        document.querySelector('#' + key + ' button');\n",
              "      quickchartButtonEl.disabled = true;  // To prevent multiple clicks.\n",
              "      quickchartButtonEl.classList.add('colab-df-spinner');\n",
              "      try {\n",
              "        const charts = await google.colab.kernel.invokeFunction(\n",
              "            'suggestCharts', [key], {});\n",
              "      } catch (error) {\n",
              "        console.error('Error during call to suggestCharts:', error);\n",
              "      }\n",
              "      quickchartButtonEl.classList.remove('colab-df-spinner');\n",
              "      quickchartButtonEl.classList.add('colab-df-quickchart-complete');\n",
              "    }\n",
              "    (() => {\n",
              "      let quickchartButtonEl =\n",
              "        document.querySelector('#df-ab2e66ed-7839-4a5a-8367-8f1cf8f9126a button');\n",
              "      quickchartButtonEl.style.display =\n",
              "        google.colab.kernel.accessAllowed ? 'block' : 'none';\n",
              "    })();\n",
              "  </script>\n",
              "</div>\n",
              "    </div>\n",
              "  </div>\n"
            ]
          },
          "metadata": {},
          "execution_count": 13
        }
      ],
      "source": [
        "nuevo_df"
      ]
    },
    {
      "cell_type": "markdown",
      "metadata": {
        "id": "bGGkEyOAbrd8"
      },
      "source": [
        "Por cuestiones de gusto personal, voy a cambiar los nombres de las columnas."
      ]
    },
    {
      "cell_type": "code",
      "execution_count": null,
      "metadata": {
        "id": "RMTcD6j1cDDx"
      },
      "outputs": [],
      "source": [
        "nuevo_df.columns = ['ID','Tipo_Vivienda', 'Ubicación','Barrio', 'Cantidad_Ambientes','Cantidad_Habitaciones','Superficie_Total','Superficie_Cubierta','Precio','Moneda']"
      ]
    },
    {
      "cell_type": "code",
      "execution_count": null,
      "metadata": {
        "colab": {
          "base_uri": "https://localhost:8080/",
          "height": 597
        },
        "id": "Z632emmOch_B",
        "outputId": "4ab52c38-0705-4e70-be8c-f032b4ae4a69"
      },
      "outputs": [
        {
          "output_type": "execute_result",
          "data": {
            "text/plain": [
              "            ID Tipo_Vivienda        Ubicación                Barrio  \\\n",
              "25          26          Casa  Capital Federal                   NaN   \n",
              "42          43  Departamento  Capital Federal                  Boca   \n",
              "43          44  Departamento  Capital Federal                  Boca   \n",
              "49          50  Departamento  Capital Federal                  Once   \n",
              "51          52            PH  Capital Federal                 Boedo   \n",
              "...        ...           ...              ...                   ...   \n",
              "460072  460073  Departamento  Capital Federal      Villa del Parque   \n",
              "460073  460074  Departamento  Capital Federal      Villa del Parque   \n",
              "460074  460075  Departamento  Capital Federal      Villa del Parque   \n",
              "460075  460076  Departamento  Capital Federal      Villa del Parque   \n",
              "460090  460091  Departamento  Capital Federal  Centro / Microcentro   \n",
              "\n",
              "        Cantidad_Ambientes  Cantidad_Habitaciones  Superficie_Total  \\\n",
              "25                     4.0                    3.0             171.0   \n",
              "42                     3.0                    2.0              58.0   \n",
              "43                     4.0                    3.0              70.0   \n",
              "49                     4.0                    2.0               NaN   \n",
              "51                     4.0                    2.0               NaN   \n",
              "...                    ...                    ...               ...   \n",
              "460072                 4.0                    3.0             130.0   \n",
              "460073                 3.0                    2.0              68.0   \n",
              "460074                 1.0                    1.0              51.0   \n",
              "460075                 1.0                    1.0              37.0   \n",
              "460090                 2.0                    1.0              84.0   \n",
              "\n",
              "        Superficie_Cubierta    Precio Moneda  \n",
              "25                    133.0  210000.0    USD  \n",
              "42                     55.0   82900.0    USD  \n",
              "43                     70.0   99000.0    USD  \n",
              "49                    104.0  146000.0    USD  \n",
              "51                     73.0  250000.0    USD  \n",
              "...                     ...       ...    ...  \n",
              "460072                100.0  220000.0    USD  \n",
              "460073                 60.0  161000.0    USD  \n",
              "460074                 30.0   75500.0    USD  \n",
              "460075                 31.0   74500.0    USD  \n",
              "460090                 84.0  135000.0    USD  \n",
              "\n",
              "[94249 rows x 10 columns]"
            ],
            "text/html": [
              "\n",
              "  <div id=\"df-255f2130-4a2c-4fbe-abed-9603bd3dadb2\" class=\"colab-df-container\">\n",
              "    <div>\n",
              "<style scoped>\n",
              "    .dataframe tbody tr th:only-of-type {\n",
              "        vertical-align: middle;\n",
              "    }\n",
              "\n",
              "    .dataframe tbody tr th {\n",
              "        vertical-align: top;\n",
              "    }\n",
              "\n",
              "    .dataframe thead th {\n",
              "        text-align: right;\n",
              "    }\n",
              "</style>\n",
              "<table border=\"1\" class=\"dataframe\">\n",
              "  <thead>\n",
              "    <tr style=\"text-align: right;\">\n",
              "      <th></th>\n",
              "      <th>ID</th>\n",
              "      <th>Tipo_Vivienda</th>\n",
              "      <th>Ubicación</th>\n",
              "      <th>Barrio</th>\n",
              "      <th>Cantidad_Ambientes</th>\n",
              "      <th>Cantidad_Habitaciones</th>\n",
              "      <th>Superficie_Total</th>\n",
              "      <th>Superficie_Cubierta</th>\n",
              "      <th>Precio</th>\n",
              "      <th>Moneda</th>\n",
              "    </tr>\n",
              "  </thead>\n",
              "  <tbody>\n",
              "    <tr>\n",
              "      <th>25</th>\n",
              "      <td>26</td>\n",
              "      <td>Casa</td>\n",
              "      <td>Capital Federal</td>\n",
              "      <td>NaN</td>\n",
              "      <td>4.0</td>\n",
              "      <td>3.0</td>\n",
              "      <td>171.0</td>\n",
              "      <td>133.0</td>\n",
              "      <td>210000.0</td>\n",
              "      <td>USD</td>\n",
              "    </tr>\n",
              "    <tr>\n",
              "      <th>42</th>\n",
              "      <td>43</td>\n",
              "      <td>Departamento</td>\n",
              "      <td>Capital Federal</td>\n",
              "      <td>Boca</td>\n",
              "      <td>3.0</td>\n",
              "      <td>2.0</td>\n",
              "      <td>58.0</td>\n",
              "      <td>55.0</td>\n",
              "      <td>82900.0</td>\n",
              "      <td>USD</td>\n",
              "    </tr>\n",
              "    <tr>\n",
              "      <th>43</th>\n",
              "      <td>44</td>\n",
              "      <td>Departamento</td>\n",
              "      <td>Capital Federal</td>\n",
              "      <td>Boca</td>\n",
              "      <td>4.0</td>\n",
              "      <td>3.0</td>\n",
              "      <td>70.0</td>\n",
              "      <td>70.0</td>\n",
              "      <td>99000.0</td>\n",
              "      <td>USD</td>\n",
              "    </tr>\n",
              "    <tr>\n",
              "      <th>49</th>\n",
              "      <td>50</td>\n",
              "      <td>Departamento</td>\n",
              "      <td>Capital Federal</td>\n",
              "      <td>Once</td>\n",
              "      <td>4.0</td>\n",
              "      <td>2.0</td>\n",
              "      <td>NaN</td>\n",
              "      <td>104.0</td>\n",
              "      <td>146000.0</td>\n",
              "      <td>USD</td>\n",
              "    </tr>\n",
              "    <tr>\n",
              "      <th>51</th>\n",
              "      <td>52</td>\n",
              "      <td>PH</td>\n",
              "      <td>Capital Federal</td>\n",
              "      <td>Boedo</td>\n",
              "      <td>4.0</td>\n",
              "      <td>2.0</td>\n",
              "      <td>NaN</td>\n",
              "      <td>73.0</td>\n",
              "      <td>250000.0</td>\n",
              "      <td>USD</td>\n",
              "    </tr>\n",
              "    <tr>\n",
              "      <th>...</th>\n",
              "      <td>...</td>\n",
              "      <td>...</td>\n",
              "      <td>...</td>\n",
              "      <td>...</td>\n",
              "      <td>...</td>\n",
              "      <td>...</td>\n",
              "      <td>...</td>\n",
              "      <td>...</td>\n",
              "      <td>...</td>\n",
              "      <td>...</td>\n",
              "    </tr>\n",
              "    <tr>\n",
              "      <th>460072</th>\n",
              "      <td>460073</td>\n",
              "      <td>Departamento</td>\n",
              "      <td>Capital Federal</td>\n",
              "      <td>Villa del Parque</td>\n",
              "      <td>4.0</td>\n",
              "      <td>3.0</td>\n",
              "      <td>130.0</td>\n",
              "      <td>100.0</td>\n",
              "      <td>220000.0</td>\n",
              "      <td>USD</td>\n",
              "    </tr>\n",
              "    <tr>\n",
              "      <th>460073</th>\n",
              "      <td>460074</td>\n",
              "      <td>Departamento</td>\n",
              "      <td>Capital Federal</td>\n",
              "      <td>Villa del Parque</td>\n",
              "      <td>3.0</td>\n",
              "      <td>2.0</td>\n",
              "      <td>68.0</td>\n",
              "      <td>60.0</td>\n",
              "      <td>161000.0</td>\n",
              "      <td>USD</td>\n",
              "    </tr>\n",
              "    <tr>\n",
              "      <th>460074</th>\n",
              "      <td>460075</td>\n",
              "      <td>Departamento</td>\n",
              "      <td>Capital Federal</td>\n",
              "      <td>Villa del Parque</td>\n",
              "      <td>1.0</td>\n",
              "      <td>1.0</td>\n",
              "      <td>51.0</td>\n",
              "      <td>30.0</td>\n",
              "      <td>75500.0</td>\n",
              "      <td>USD</td>\n",
              "    </tr>\n",
              "    <tr>\n",
              "      <th>460075</th>\n",
              "      <td>460076</td>\n",
              "      <td>Departamento</td>\n",
              "      <td>Capital Federal</td>\n",
              "      <td>Villa del Parque</td>\n",
              "      <td>1.0</td>\n",
              "      <td>1.0</td>\n",
              "      <td>37.0</td>\n",
              "      <td>31.0</td>\n",
              "      <td>74500.0</td>\n",
              "      <td>USD</td>\n",
              "    </tr>\n",
              "    <tr>\n",
              "      <th>460090</th>\n",
              "      <td>460091</td>\n",
              "      <td>Departamento</td>\n",
              "      <td>Capital Federal</td>\n",
              "      <td>Centro / Microcentro</td>\n",
              "      <td>2.0</td>\n",
              "      <td>1.0</td>\n",
              "      <td>84.0</td>\n",
              "      <td>84.0</td>\n",
              "      <td>135000.0</td>\n",
              "      <td>USD</td>\n",
              "    </tr>\n",
              "  </tbody>\n",
              "</table>\n",
              "<p>94249 rows × 10 columns</p>\n",
              "</div>\n",
              "    <div class=\"colab-df-buttons\">\n",
              "\n",
              "  <div class=\"colab-df-container\">\n",
              "    <button class=\"colab-df-convert\" onclick=\"convertToInteractive('df-255f2130-4a2c-4fbe-abed-9603bd3dadb2')\"\n",
              "            title=\"Convert this dataframe to an interactive table.\"\n",
              "            style=\"display:none;\">\n",
              "\n",
              "  <svg xmlns=\"http://www.w3.org/2000/svg\" height=\"24px\" viewBox=\"0 -960 960 960\">\n",
              "    <path d=\"M120-120v-720h720v720H120Zm60-500h600v-160H180v160Zm220 220h160v-160H400v160Zm0 220h160v-160H400v160ZM180-400h160v-160H180v160Zm440 0h160v-160H620v160ZM180-180h160v-160H180v160Zm440 0h160v-160H620v160Z\"/>\n",
              "  </svg>\n",
              "    </button>\n",
              "\n",
              "  <style>\n",
              "    .colab-df-container {\n",
              "      display:flex;\n",
              "      gap: 12px;\n",
              "    }\n",
              "\n",
              "    .colab-df-convert {\n",
              "      background-color: #E8F0FE;\n",
              "      border: none;\n",
              "      border-radius: 50%;\n",
              "      cursor: pointer;\n",
              "      display: none;\n",
              "      fill: #1967D2;\n",
              "      height: 32px;\n",
              "      padding: 0 0 0 0;\n",
              "      width: 32px;\n",
              "    }\n",
              "\n",
              "    .colab-df-convert:hover {\n",
              "      background-color: #E2EBFA;\n",
              "      box-shadow: 0px 1px 2px rgba(60, 64, 67, 0.3), 0px 1px 3px 1px rgba(60, 64, 67, 0.15);\n",
              "      fill: #174EA6;\n",
              "    }\n",
              "\n",
              "    .colab-df-buttons div {\n",
              "      margin-bottom: 4px;\n",
              "    }\n",
              "\n",
              "    [theme=dark] .colab-df-convert {\n",
              "      background-color: #3B4455;\n",
              "      fill: #D2E3FC;\n",
              "    }\n",
              "\n",
              "    [theme=dark] .colab-df-convert:hover {\n",
              "      background-color: #434B5C;\n",
              "      box-shadow: 0px 1px 3px 1px rgba(0, 0, 0, 0.15);\n",
              "      filter: drop-shadow(0px 1px 2px rgba(0, 0, 0, 0.3));\n",
              "      fill: #FFFFFF;\n",
              "    }\n",
              "  </style>\n",
              "\n",
              "    <script>\n",
              "      const buttonEl =\n",
              "        document.querySelector('#df-255f2130-4a2c-4fbe-abed-9603bd3dadb2 button.colab-df-convert');\n",
              "      buttonEl.style.display =\n",
              "        google.colab.kernel.accessAllowed ? 'block' : 'none';\n",
              "\n",
              "      async function convertToInteractive(key) {\n",
              "        const element = document.querySelector('#df-255f2130-4a2c-4fbe-abed-9603bd3dadb2');\n",
              "        const dataTable =\n",
              "          await google.colab.kernel.invokeFunction('convertToInteractive',\n",
              "                                                    [key], {});\n",
              "        if (!dataTable) return;\n",
              "\n",
              "        const docLinkHtml = 'Like what you see? Visit the ' +\n",
              "          '<a target=\"_blank\" href=https://colab.research.google.com/notebooks/data_table.ipynb>data table notebook</a>'\n",
              "          + ' to learn more about interactive tables.';\n",
              "        element.innerHTML = '';\n",
              "        dataTable['output_type'] = 'display_data';\n",
              "        await google.colab.output.renderOutput(dataTable, element);\n",
              "        const docLink = document.createElement('div');\n",
              "        docLink.innerHTML = docLinkHtml;\n",
              "        element.appendChild(docLink);\n",
              "      }\n",
              "    </script>\n",
              "  </div>\n",
              "\n",
              "\n",
              "<div id=\"df-be8540d5-a8ac-4405-9e56-a127dcbc7cc0\">\n",
              "  <button class=\"colab-df-quickchart\" onclick=\"quickchart('df-be8540d5-a8ac-4405-9e56-a127dcbc7cc0')\"\n",
              "            title=\"Suggest charts\"\n",
              "            style=\"display:none;\">\n",
              "\n",
              "<svg xmlns=\"http://www.w3.org/2000/svg\" height=\"24px\"viewBox=\"0 0 24 24\"\n",
              "     width=\"24px\">\n",
              "    <g>\n",
              "        <path d=\"M19 3H5c-1.1 0-2 .9-2 2v14c0 1.1.9 2 2 2h14c1.1 0 2-.9 2-2V5c0-1.1-.9-2-2-2zM9 17H7v-7h2v7zm4 0h-2V7h2v10zm4 0h-2v-4h2v4z\"/>\n",
              "    </g>\n",
              "</svg>\n",
              "  </button>\n",
              "\n",
              "<style>\n",
              "  .colab-df-quickchart {\n",
              "      --bg-color: #E8F0FE;\n",
              "      --fill-color: #1967D2;\n",
              "      --hover-bg-color: #E2EBFA;\n",
              "      --hover-fill-color: #174EA6;\n",
              "      --disabled-fill-color: #AAA;\n",
              "      --disabled-bg-color: #DDD;\n",
              "  }\n",
              "\n",
              "  [theme=dark] .colab-df-quickchart {\n",
              "      --bg-color: #3B4455;\n",
              "      --fill-color: #D2E3FC;\n",
              "      --hover-bg-color: #434B5C;\n",
              "      --hover-fill-color: #FFFFFF;\n",
              "      --disabled-bg-color: #3B4455;\n",
              "      --disabled-fill-color: #666;\n",
              "  }\n",
              "\n",
              "  .colab-df-quickchart {\n",
              "    background-color: var(--bg-color);\n",
              "    border: none;\n",
              "    border-radius: 50%;\n",
              "    cursor: pointer;\n",
              "    display: none;\n",
              "    fill: var(--fill-color);\n",
              "    height: 32px;\n",
              "    padding: 0;\n",
              "    width: 32px;\n",
              "  }\n",
              "\n",
              "  .colab-df-quickchart:hover {\n",
              "    background-color: var(--hover-bg-color);\n",
              "    box-shadow: 0 1px 2px rgba(60, 64, 67, 0.3), 0 1px 3px 1px rgba(60, 64, 67, 0.15);\n",
              "    fill: var(--button-hover-fill-color);\n",
              "  }\n",
              "\n",
              "  .colab-df-quickchart-complete:disabled,\n",
              "  .colab-df-quickchart-complete:disabled:hover {\n",
              "    background-color: var(--disabled-bg-color);\n",
              "    fill: var(--disabled-fill-color);\n",
              "    box-shadow: none;\n",
              "  }\n",
              "\n",
              "  .colab-df-spinner {\n",
              "    border: 2px solid var(--fill-color);\n",
              "    border-color: transparent;\n",
              "    border-bottom-color: var(--fill-color);\n",
              "    animation:\n",
              "      spin 1s steps(1) infinite;\n",
              "  }\n",
              "\n",
              "  @keyframes spin {\n",
              "    0% {\n",
              "      border-color: transparent;\n",
              "      border-bottom-color: var(--fill-color);\n",
              "      border-left-color: var(--fill-color);\n",
              "    }\n",
              "    20% {\n",
              "      border-color: transparent;\n",
              "      border-left-color: var(--fill-color);\n",
              "      border-top-color: var(--fill-color);\n",
              "    }\n",
              "    30% {\n",
              "      border-color: transparent;\n",
              "      border-left-color: var(--fill-color);\n",
              "      border-top-color: var(--fill-color);\n",
              "      border-right-color: var(--fill-color);\n",
              "    }\n",
              "    40% {\n",
              "      border-color: transparent;\n",
              "      border-right-color: var(--fill-color);\n",
              "      border-top-color: var(--fill-color);\n",
              "    }\n",
              "    60% {\n",
              "      border-color: transparent;\n",
              "      border-right-color: var(--fill-color);\n",
              "    }\n",
              "    80% {\n",
              "      border-color: transparent;\n",
              "      border-right-color: var(--fill-color);\n",
              "      border-bottom-color: var(--fill-color);\n",
              "    }\n",
              "    90% {\n",
              "      border-color: transparent;\n",
              "      border-bottom-color: var(--fill-color);\n",
              "    }\n",
              "  }\n",
              "</style>\n",
              "\n",
              "  <script>\n",
              "    async function quickchart(key) {\n",
              "      const quickchartButtonEl =\n",
              "        document.querySelector('#' + key + ' button');\n",
              "      quickchartButtonEl.disabled = true;  // To prevent multiple clicks.\n",
              "      quickchartButtonEl.classList.add('colab-df-spinner');\n",
              "      try {\n",
              "        const charts = await google.colab.kernel.invokeFunction(\n",
              "            'suggestCharts', [key], {});\n",
              "      } catch (error) {\n",
              "        console.error('Error during call to suggestCharts:', error);\n",
              "      }\n",
              "      quickchartButtonEl.classList.remove('colab-df-spinner');\n",
              "      quickchartButtonEl.classList.add('colab-df-quickchart-complete');\n",
              "    }\n",
              "    (() => {\n",
              "      let quickchartButtonEl =\n",
              "        document.querySelector('#df-be8540d5-a8ac-4405-9e56-a127dcbc7cc0 button');\n",
              "      quickchartButtonEl.style.display =\n",
              "        google.colab.kernel.accessAllowed ? 'block' : 'none';\n",
              "    })();\n",
              "  </script>\n",
              "</div>\n",
              "    </div>\n",
              "  </div>\n"
            ]
          },
          "metadata": {},
          "execution_count": 15
        }
      ],
      "source": [
        "nuevo_df"
      ]
    },
    {
      "cell_type": "markdown",
      "metadata": {
        "id": "rkzXR8kQ7pQn"
      },
      "source": [
        "# Variables Cuantitativas"
      ]
    },
    {
      "cell_type": "markdown",
      "source": [
        "Voy a analizar las variables cuantitativas.\n",
        "Estas son:  \n",
        "  *   Cantidad_Ambientes\n",
        "  *   Cantidad_Habitaciones\n",
        "  *   Superficie_Total\n",
        "  *   Superficie_Cubierta\n",
        "  *   Precio\n",
        "\n"
      ],
      "metadata": {
        "id": "UBoLBlApr08I"
      }
    },
    {
      "cell_type": "markdown",
      "metadata": {
        "id": "hpbMoCe0lody"
      },
      "source": [
        "### Cantidad_Ambientes"
      ]
    },
    {
      "cell_type": "markdown",
      "metadata": {
        "id": "b0sak78dl_Fm"
      },
      "source": [
        "Calculo la media:"
      ]
    },
    {
      "cell_type": "code",
      "execution_count": null,
      "metadata": {
        "colab": {
          "base_uri": "https://localhost:8080/"
        },
        "id": "vn39p2SJmj-f",
        "outputId": "7ae4ebe1-e9e4-4b0e-9fd6-c64c1fb689ba"
      },
      "outputs": [
        {
          "data": {
            "text/plain": [
              "2.8227992060511777"
            ]
          },
          "execution_count": 11,
          "metadata": {},
          "output_type": "execute_result"
        }
      ],
      "source": [
        "nuevo_df['Cantidad_Ambientes'].mean()"
      ]
    },
    {
      "cell_type": "markdown",
      "metadata": {
        "id": "r0giH-KtmBDq"
      },
      "source": [
        "Calculo la mediana:"
      ]
    },
    {
      "cell_type": "code",
      "execution_count": null,
      "metadata": {
        "colab": {
          "base_uri": "https://localhost:8080/"
        },
        "id": "zTbXm2qZmnu5",
        "outputId": "44e3467b-0be2-4a7b-cace-99388d9dc6a3"
      },
      "outputs": [
        {
          "data": {
            "text/plain": [
              "3.0"
            ]
          },
          "execution_count": 12,
          "metadata": {},
          "output_type": "execute_result"
        }
      ],
      "source": [
        "nuevo_df['Cantidad_Ambientes'].median()"
      ]
    },
    {
      "cell_type": "markdown",
      "metadata": {
        "id": "Ul9yE_comE7Z"
      },
      "source": [
        "Calculo el 1er cuatril:"
      ]
    },
    {
      "cell_type": "code",
      "execution_count": null,
      "metadata": {
        "colab": {
          "base_uri": "https://localhost:8080/"
        },
        "id": "C80sDwvamowI",
        "outputId": "9e4583bc-231b-44d0-b461-5dec49800b8a"
      },
      "outputs": [
        {
          "data": {
            "text/plain": [
              "2.0"
            ]
          },
          "execution_count": 13,
          "metadata": {},
          "output_type": "execute_result"
        }
      ],
      "source": [
        "nuevo_df['Cantidad_Ambientes'].quantile(0.25)"
      ]
    },
    {
      "cell_type": "markdown",
      "metadata": {
        "id": "wgOzRRchmIwz"
      },
      "source": [
        "Calculo el 2do cuatril:"
      ]
    },
    {
      "cell_type": "code",
      "execution_count": null,
      "metadata": {
        "colab": {
          "base_uri": "https://localhost:8080/"
        },
        "id": "AWFBoJlOmYxQ",
        "outputId": "b3a87b67-a745-4fe2-f819-396d295f73d7"
      },
      "outputs": [
        {
          "data": {
            "text/plain": [
              "3.0"
            ]
          },
          "execution_count": 14,
          "metadata": {},
          "output_type": "execute_result"
        }
      ],
      "source": [
        "nuevo_df['Cantidad_Ambientes'].quantile(0.50)"
      ]
    },
    {
      "cell_type": "markdown",
      "metadata": {
        "id": "x-WyTSHCmT45"
      },
      "source": [
        "Calculo el 3er cuatril:"
      ]
    },
    {
      "cell_type": "code",
      "execution_count": null,
      "metadata": {
        "colab": {
          "base_uri": "https://localhost:8080/"
        },
        "id": "lHj-qO15mpR4",
        "outputId": "9a1c732f-8d15-4c22-f1bf-e9a844cd7886"
      },
      "outputs": [
        {
          "data": {
            "text/plain": [
              "4.0"
            ]
          },
          "execution_count": 15,
          "metadata": {},
          "output_type": "execute_result"
        }
      ],
      "source": [
        "nuevo_df['Cantidad_Ambientes'].quantile(0.75)"
      ]
    },
    {
      "cell_type": "markdown",
      "metadata": {
        "id": "eudaO5D9mWkz"
      },
      "source": [
        "Calculo la moda:"
      ]
    },
    {
      "cell_type": "code",
      "execution_count": null,
      "metadata": {
        "colab": {
          "base_uri": "https://localhost:8080/"
        },
        "id": "dfwzd-tJmpmo",
        "outputId": "fd88fefd-cd1b-4caf-eeb2-58a88aef310b"
      },
      "outputs": [
        {
          "data": {
            "text/plain": [
              "0    3.0\n",
              "Name: Cantidad_Ambientes, dtype: float64"
            ]
          },
          "execution_count": 16,
          "metadata": {},
          "output_type": "execute_result"
        }
      ],
      "source": [
        "nuevo_df['Cantidad_Ambientes'].mode()"
      ]
    },
    {
      "cell_type": "markdown",
      "metadata": {
        "id": "BbNKgOEnmZsI"
      },
      "source": [
        "Calculo el minimo:"
      ]
    },
    {
      "cell_type": "code",
      "execution_count": null,
      "metadata": {
        "colab": {
          "base_uri": "https://localhost:8080/"
        },
        "id": "ohSg-NxtmqEq",
        "outputId": "9a3f1701-7b9f-4b07-f77c-c797b638cc1d"
      },
      "outputs": [
        {
          "data": {
            "text/plain": [
              "1.0"
            ]
          },
          "execution_count": 17,
          "metadata": {},
          "output_type": "execute_result"
        }
      ],
      "source": [
        "minimo=nuevo_df['Cantidad_Ambientes'].min()\n",
        "minimo"
      ]
    },
    {
      "cell_type": "markdown",
      "metadata": {
        "id": "XdtdeKG3mc2Q"
      },
      "source": [
        "Calculo el maximo:"
      ]
    },
    {
      "cell_type": "code",
      "execution_count": null,
      "metadata": {
        "colab": {
          "base_uri": "https://localhost:8080/"
        },
        "id": "U3cVRz_KmqWc",
        "outputId": "09e08da5-3c05-45a5-d985-cb2a90e00aca"
      },
      "outputs": [
        {
          "data": {
            "text/plain": [
              "40.0"
            ]
          },
          "execution_count": 18,
          "metadata": {},
          "output_type": "execute_result"
        }
      ],
      "source": [
        "maximo=nuevo_df['Cantidad_Ambientes'].max()\n",
        "maximo"
      ]
    },
    {
      "cell_type": "markdown",
      "metadata": {
        "id": "TDiWoGi3mfeI"
      },
      "source": [
        "Calculo el rango:"
      ]
    },
    {
      "cell_type": "code",
      "execution_count": null,
      "metadata": {
        "colab": {
          "base_uri": "https://localhost:8080/"
        },
        "id": "S9FgQduEmDSB",
        "outputId": "87b75197-be30-47d1-eb78-5ed6fa400aee"
      },
      "outputs": [
        {
          "data": {
            "text/plain": [
              "39.0"
            ]
          },
          "execution_count": 19,
          "metadata": {},
          "output_type": "execute_result"
        }
      ],
      "source": [
        "rango=maximo-minimo\n",
        "rango"
      ]
    },
    {
      "cell_type": "code",
      "execution_count": null,
      "metadata": {
        "colab": {
          "base_uri": "https://localhost:8080/",
          "height": 433
        },
        "id": "wS2DwYnRoeH_",
        "outputId": "cddbf6a3-4589-4493-debc-ec2c0945ec21"
      },
      "outputs": [
        {
          "data": {
            "image/png": "[encoded data removed]",
            "text/plain": [
              "<Figure size 640x480 with 1 Axes>"
            ]
          },
          "metadata": {},
          "output_type": "display_data"
        }
      ],
      "source": [
        "sns.boxplot(y=nuevo_df['Cantidad_Ambientes'], color=\"red\").set(title=\"Distribución Cantidad de Ambientes\")\n",
        "plt.show()"
      ]
    },
    {
      "cell_type": "markdown",
      "metadata": {
        "id": "VUsOGqjFn4ak"
      },
      "source": [
        "### Cantidad_Habitaciones"
      ]
    },
    {
      "cell_type": "markdown",
      "metadata": {
        "id": "Z0PPTiOrrmKx"
      },
      "source": [
        "Calculo la media:"
      ]
    },
    {
      "cell_type": "code",
      "execution_count": null,
      "metadata": {
        "colab": {
          "base_uri": "https://localhost:8080/"
        },
        "id": "kxnTki1xrm1s",
        "outputId": "6d2030e2-c079-480c-e9a3-6b3802ce4cdb"
      },
      "outputs": [
        {
          "data": {
            "text/plain": [
              "2.0146285220148448"
            ]
          },
          "execution_count": 21,
          "metadata": {},
          "output_type": "execute_result"
        }
      ],
      "source": [
        "nuevo_df['Cantidad_Habitaciones'].mean()"
      ]
    },
    {
      "cell_type": "markdown",
      "metadata": {
        "id": "eZMDms8VrnLa"
      },
      "source": [
        "Calculo la mediana:"
      ]
    },
    {
      "cell_type": "code",
      "execution_count": null,
      "metadata": {
        "colab": {
          "base_uri": "https://localhost:8080/"
        },
        "id": "NVs0l_UOrnb5",
        "outputId": "565079c7-d794-41c2-b24e-c89c27496f40"
      },
      "outputs": [
        {
          "data": {
            "text/plain": [
              "2.0"
            ]
          },
          "execution_count": 22,
          "metadata": {},
          "output_type": "execute_result"
        }
      ],
      "source": [
        "nuevo_df['Cantidad_Habitaciones'].median()"
      ]
    },
    {
      "cell_type": "markdown",
      "metadata": {
        "id": "SfJRZeMCrntp"
      },
      "source": [
        "Calculo el 1er cuatril:"
      ]
    },
    {
      "cell_type": "code",
      "execution_count": null,
      "metadata": {
        "colab": {
          "base_uri": "https://localhost:8080/"
        },
        "id": "ToqsF8sqroDC",
        "outputId": "f5a88809-de78-4d64-cc1a-4f76f576f1c6"
      },
      "outputs": [
        {
          "data": {
            "text/plain": [
              "1.0"
            ]
          },
          "execution_count": 23,
          "metadata": {},
          "output_type": "execute_result"
        }
      ],
      "source": [
        "nuevo_df['Cantidad_Habitaciones'].quantile(0.25)"
      ]
    },
    {
      "cell_type": "markdown",
      "metadata": {
        "id": "Pet4dvvBrof5"
      },
      "source": [
        "Calculo el 2do cuatril:"
      ]
    },
    {
      "cell_type": "code",
      "execution_count": null,
      "metadata": {
        "colab": {
          "base_uri": "https://localhost:8080/"
        },
        "id": "D3C9Ndhoroyh",
        "outputId": "2b7292b5-3d45-4ccb-d10d-172dda7de20b"
      },
      "outputs": [
        {
          "data": {
            "text/plain": [
              "2.0"
            ]
          },
          "execution_count": 24,
          "metadata": {},
          "output_type": "execute_result"
        }
      ],
      "source": [
        "nuevo_df['Cantidad_Habitaciones'].quantile(0.50)"
      ]
    },
    {
      "cell_type": "markdown",
      "metadata": {
        "id": "sNxpABT6rzjB"
      },
      "source": [
        "Calculo el 3er cuatril:"
      ]
    },
    {
      "cell_type": "code",
      "execution_count": null,
      "metadata": {
        "colab": {
          "base_uri": "https://localhost:8080/"
        },
        "id": "PMRiLIbgrzw6",
        "outputId": "4de78ca7-7189-4938-9425-791026da06e5"
      },
      "outputs": [
        {
          "data": {
            "text/plain": [
              "3.0"
            ]
          },
          "execution_count": 25,
          "metadata": {},
          "output_type": "execute_result"
        }
      ],
      "source": [
        "nuevo_df['Cantidad_Habitaciones'].quantile(0.75)"
      ]
    },
    {
      "cell_type": "markdown",
      "metadata": {
        "id": "x927mxKsrz-j"
      },
      "source": [
        "Calculo la moda:"
      ]
    },
    {
      "cell_type": "code",
      "execution_count": null,
      "metadata": {
        "colab": {
          "base_uri": "https://localhost:8080/"
        },
        "id": "IX8HDu4Gr0aY",
        "outputId": "cb0811c1-e0bc-42ac-ba59-19bab50d106d"
      },
      "outputs": [
        {
          "data": {
            "text/plain": [
              "0    1.0\n",
              "Name: Cantidad_Habitaciones, dtype: float64"
            ]
          },
          "execution_count": 26,
          "metadata": {},
          "output_type": "execute_result"
        }
      ],
      "source": [
        "nuevo_df['Cantidad_Habitaciones'].mode()"
      ]
    },
    {
      "cell_type": "markdown",
      "metadata": {
        "id": "roE-Nn69r8YB"
      },
      "source": [
        "Calculo el minimo:"
      ]
    },
    {
      "cell_type": "code",
      "execution_count": null,
      "metadata": {
        "colab": {
          "base_uri": "https://localhost:8080/"
        },
        "id": "0qvei9qWr8tg",
        "outputId": "fa6e99b8-537c-465a-b86b-27814aaa695a"
      },
      "outputs": [
        {
          "data": {
            "text/plain": [
              "-1.0"
            ]
          },
          "execution_count": 27,
          "metadata": {},
          "output_type": "execute_result"
        }
      ],
      "source": [
        "minimo=nuevo_df['Cantidad_Habitaciones'].min()\n",
        "minimo"
      ]
    },
    {
      "cell_type": "markdown",
      "metadata": {
        "id": "fmjsAUMIr9EA"
      },
      "source": [
        "Calculo el maximo:"
      ]
    },
    {
      "cell_type": "code",
      "execution_count": null,
      "metadata": {
        "colab": {
          "base_uri": "https://localhost:8080/"
        },
        "id": "6miFlgt5r9Up",
        "outputId": "a54f4393-45c8-49f0-db6b-91b37c721e1b"
      },
      "outputs": [
        {
          "data": {
            "text/plain": [
              "70.0"
            ]
          },
          "execution_count": 28,
          "metadata": {},
          "output_type": "execute_result"
        }
      ],
      "source": [
        "maximo=nuevo_df['Cantidad_Habitaciones'].max()\n",
        "maximo"
      ]
    },
    {
      "cell_type": "markdown",
      "metadata": {
        "id": "LY91um5RsVN2"
      },
      "source": [
        "Calculo el rango:"
      ]
    },
    {
      "cell_type": "code",
      "execution_count": null,
      "metadata": {
        "colab": {
          "base_uri": "https://localhost:8080/"
        },
        "id": "zMw_YDnssVgx",
        "outputId": "f0fb630a-8c4e-45e2-a4f4-49f5859ebacd"
      },
      "outputs": [
        {
          "data": {
            "text/plain": [
              "71.0"
            ]
          },
          "execution_count": 29,
          "metadata": {},
          "output_type": "execute_result"
        }
      ],
      "source": [
        "rango=maximo-minimo\n",
        "rango"
      ]
    },
    {
      "cell_type": "markdown",
      "metadata": {
        "id": "-QCzPwEsuwF6"
      },
      "source": [
        "Me dió que el minimo es -1, asi que busco este valor para poder ver la fila"
      ]
    },
    {
      "cell_type": "code",
      "execution_count": null,
      "metadata": {
        "colab": {
          "base_uri": "https://localhost:8080/",
          "height": 118
        },
        "id": "_t4LXSGcuRa5",
        "outputId": "33e7945f-a056-4b3e-a319-bad54c39fabe"
      },
      "outputs": [
        {
          "data": {
            "text/html": [
              "\n",
              "  <div id=\"df-352738df-326b-408f-a2d8-a27f83720121\" class=\"colab-df-container\">\n",
              "    <div>\n",
              "<style scoped>\n",
              "    .dataframe tbody tr th:only-of-type {\n",
              "        vertical-align: middle;\n",
              "    }\n",
              "\n",
              "    .dataframe tbody tr th {\n",
              "        vertical-align: top;\n",
              "    }\n",
              "\n",
              "    .dataframe thead th {\n",
              "        text-align: right;\n",
              "    }\n",
              "</style>\n",
              "<table border=\"1\" class=\"dataframe\">\n",
              "  <thead>\n",
              "    <tr style=\"text-align: right;\">\n",
              "      <th></th>\n",
              "      <th>ID</th>\n",
              "      <th>Tipo_Vivienda</th>\n",
              "      <th>Ubicación</th>\n",
              "      <th>Barrio</th>\n",
              "      <th>Cantidad_Ambientes</th>\n",
              "      <th>Cantidad_Habitaciones</th>\n",
              "      <th>Superficie_Total</th>\n",
              "      <th>Superficie_Cubierta</th>\n",
              "      <th>Precio</th>\n",
              "      <th>Moneda</th>\n",
              "    </tr>\n",
              "  </thead>\n",
              "  <tbody>\n",
              "    <tr>\n",
              "      <th>406880</th>\n",
              "      <td>3WI+zCCMeb9TR5kOBm7rhg==</td>\n",
              "      <td>Departamento</td>\n",
              "      <td>Capital Federal</td>\n",
              "      <td>Villa Urquiza</td>\n",
              "      <td>2.0</td>\n",
              "      <td>-1.0</td>\n",
              "      <td>61.0</td>\n",
              "      <td>43.0</td>\n",
              "      <td>125000.0</td>\n",
              "      <td>USD</td>\n",
              "    </tr>\n",
              "  </tbody>\n",
              "</table>\n",
              "</div>\n",
              "    <div class=\"colab-df-buttons\">\n",
              "\n",
              "  <div class=\"colab-df-container\">\n",
              "    <button class=\"colab-df-convert\" onclick=\"convertToInteractive('df-352738df-326b-408f-a2d8-a27f83720121')\"\n",
              "            title=\"Convert this dataframe to an interactive table.\"\n",
              "            style=\"display:none;\">\n",
              "\n",
              "  <svg xmlns=\"http://www.w3.org/2000/svg\" height=\"24px\" viewBox=\"0 -960 960 960\">\n",
              "    <path d=\"M120-120v-720h720v720H120Zm60-500h600v-160H180v160Zm220 220h160v-160H400v160Zm0 220h160v-160H400v160ZM180-400h160v-160H180v160Zm440 0h160v-160H620v160ZM180-180h160v-160H180v160Zm440 0h160v-160H620v160Z\"/>\n",
              "  </svg>\n",
              "    </button>\n",
              "\n",
              "  <style>\n",
              "    .colab-df-container {\n",
              "      display:flex;\n",
              "      gap: 12px;\n",
              "    }\n",
              "\n",
              "    .colab-df-convert {\n",
              "      background-color: #E8F0FE;\n",
              "      border: none;\n",
              "      border-radius: 50%;\n",
              "      cursor: pointer;\n",
              "      display: none;\n",
              "      fill: #1967D2;\n",
              "      height: 32px;\n",
              "      padding: 0 0 0 0;\n",
              "      width: 32px;\n",
              "    }\n",
              "\n",
              "    .colab-df-convert:hover {\n",
              "      background-color: #E2EBFA;\n",
              "      box-shadow: 0px 1px 2px rgba(60, 64, 67, 0.3), 0px 1px 3px 1px rgba(60, 64, 67, 0.15);\n",
              "      fill: #174EA6;\n",
              "    }\n",
              "\n",
              "    .colab-df-buttons div {\n",
              "      margin-bottom: 4px;\n",
              "    }\n",
              "\n",
              "    [theme=dark] .colab-df-convert {\n",
              "      background-color: #3B4455;\n",
              "      fill: #D2E3FC;\n",
              "    }\n",
              "\n",
              "    [theme=dark] .colab-df-convert:hover {\n",
              "      background-color: #434B5C;\n",
              "      box-shadow: 0px 1px 3px 1px rgba(0, 0, 0, 0.15);\n",
              "      filter: drop-shadow(0px 1px 2px rgba(0, 0, 0, 0.3));\n",
              "      fill: #FFFFFF;\n",
              "    }\n",
              "  </style>\n",
              "\n",
              "    <script>\n",
              "      const buttonEl =\n",
              "        document.querySelector('#df-352738df-326b-408f-a2d8-a27f83720121 button.colab-df-convert');\n",
              "      buttonEl.style.display =\n",
              "        google.colab.kernel.accessAllowed ? 'block' : 'none';\n",
              "\n",
              "      async function convertToInteractive(key) {\n",
              "        const element = document.querySelector('#df-352738df-326b-408f-a2d8-a27f83720121');\n",
              "        const dataTable =\n",
              "          await google.colab.kernel.invokeFunction('convertToInteractive',\n",
              "                                                    [key], {});\n",
              "        if (!dataTable) return;\n",
              "\n",
              "        const docLinkHtml = 'Like what you see? Visit the ' +\n",
              "          '<a target=\"_blank\" href=https://colab.research.google.com/notebooks/data_table.ipynb>data table notebook</a>'\n",
              "          + ' to learn more about interactive tables.';\n",
              "        element.innerHTML = '';\n",
              "        dataTable['output_type'] = 'display_data';\n",
              "        await google.colab.output.renderOutput(dataTable, element);\n",
              "        const docLink = document.createElement('div');\n",
              "        docLink.innerHTML = docLinkHtml;\n",
              "        element.appendChild(docLink);\n",
              "      }\n",
              "    </script>\n",
              "  </div>\n",
              "\n",
              "    </div>\n",
              "  </div>\n"
            ],
            "text/plain": [
              "                              ID Tipo_Vivienda        Ubicación  \\\n",
              "406880  3WI+zCCMeb9TR5kOBm7rhg==  Departamento  Capital Federal   \n",
              "\n",
              "               Barrio  Cantidad_Ambientes  Cantidad_Habitaciones  \\\n",
              "406880  Villa Urquiza                 2.0                   -1.0   \n",
              "\n",
              "        Superficie_Total  Superficie_Cubierta    Precio Moneda  \n",
              "406880              61.0                 43.0  125000.0    USD  "
            ]
          },
          "execution_count": 30,
          "metadata": {},
          "output_type": "execute_result"
        }
      ],
      "source": [
        "habitacion_negativa = nuevo_df[nuevo_df['Cantidad_Habitaciones'] == -1]\n",
        "habitacion_negativa"
      ]
    },
    {
      "cell_type": "markdown",
      "metadata": {
        "id": "VnOl_vfau95W"
      },
      "source": [
        "Puedo ver que es un Departamento  con dos ambientes valuado en 125 mil USD.\n",
        "El dato que tengo es que la propiedad no solo no tiene un baño, si no que \"debe\" uno. Asumo que es un error a la hora de cargar el dato."
      ]
    },
    {
      "cell_type": "code",
      "execution_count": null,
      "metadata": {
        "colab": {
          "base_uri": "https://localhost:8080/",
          "height": 433
        },
        "id": "mTegocIJv233",
        "outputId": "a9ef8669-1353-440e-f40a-54f22dec1b8b"
      },
      "outputs": [
        {
          "data": {
            "image/png": "[encoded data removed]",
            "text/plain": [
              "<Figure size 640x480 with 1 Axes>"
            ]
          },
          "metadata": {},
          "output_type": "display_data"
        }
      ],
      "source": [
        "sns.boxplot(y=nuevo_df['Cantidad_Habitaciones'], color=\"blue\").set(title=\"Distribución Cantidad de Habitaciones\")\n",
        "plt.yticks(range(int(nuevo_df['Cantidad_Habitaciones'].min()), int(nuevo_df['Cantidad_Habitaciones'].max()) + 1,5))\n",
        "plt.show()"
      ]
    },
    {
      "cell_type": "markdown",
      "metadata": {
        "id": "NgC38sWlwuPB"
      },
      "source": [
        "### Superficie_Total"
      ]
    },
    {
      "cell_type": "markdown",
      "metadata": {
        "id": "5VlHw2RPw24Y"
      },
      "source": [
        "Calculo la media:"
      ]
    },
    {
      "cell_type": "code",
      "execution_count": null,
      "metadata": {
        "colab": {
          "base_uri": "https://localhost:8080/"
        },
        "id": "on7I4oNEw3Jq",
        "outputId": "d8e8f219-5dd5-4d53-fe8f-46967e992ca6"
      },
      "outputs": [
        {
          "data": {
            "text/plain": [
              "109.09297019182372"
            ]
          },
          "execution_count": 32,
          "metadata": {},
          "output_type": "execute_result"
        }
      ],
      "source": [
        "nuevo_df['Superficie_Total'].mean()"
      ]
    },
    {
      "cell_type": "markdown",
      "metadata": {
        "id": "mzxnXSHkw3Xo"
      },
      "source": [
        "Calculo la mediana:"
      ]
    },
    {
      "cell_type": "code",
      "execution_count": null,
      "metadata": {
        "colab": {
          "base_uri": "https://localhost:8080/"
        },
        "id": "BDs7dzq8w3o2",
        "outputId": "f000c2ed-9b71-4d95-a788-45d4c345b454"
      },
      "outputs": [
        {
          "data": {
            "text/plain": [
              "65.0"
            ]
          },
          "execution_count": 33,
          "metadata": {},
          "output_type": "execute_result"
        }
      ],
      "source": [
        "nuevo_df['Superficie_Total'].median()"
      ]
    },
    {
      "cell_type": "markdown",
      "metadata": {
        "id": "aXuFQopVw39Y"
      },
      "source": [
        "Calculo el 1er cuatril:"
      ]
    },
    {
      "cell_type": "code",
      "execution_count": null,
      "metadata": {
        "colab": {
          "base_uri": "https://localhost:8080/"
        },
        "id": "oG7sKW83w4MA",
        "outputId": "35ba0116-fb20-43b5-c234-c5e7d871c418"
      },
      "outputs": [
        {
          "data": {
            "text/plain": [
              "45.0"
            ]
          },
          "execution_count": 34,
          "metadata": {},
          "output_type": "execute_result"
        }
      ],
      "source": [
        "nuevo_df['Superficie_Total'].quantile(0.25)"
      ]
    },
    {
      "cell_type": "markdown",
      "metadata": {
        "id": "xuLHl5tIw4dA"
      },
      "source": [
        "Calculo el 2do cuatril:"
      ]
    },
    {
      "cell_type": "code",
      "execution_count": null,
      "metadata": {
        "colab": {
          "base_uri": "https://localhost:8080/"
        },
        "id": "SQo6jD3bw4x4",
        "outputId": "09ff08bd-df59-40b0-ef0c-8800307f8f6a"
      },
      "outputs": [
        {
          "data": {
            "text/plain": [
              "65.0"
            ]
          },
          "execution_count": 35,
          "metadata": {},
          "output_type": "execute_result"
        }
      ],
      "source": [
        "nuevo_df['Superficie_Total'].quantile(0.50)"
      ]
    },
    {
      "cell_type": "markdown",
      "metadata": {
        "id": "SGTReyaQw5dQ"
      },
      "source": [
        "Calculo el 3er cuatril:"
      ]
    },
    {
      "cell_type": "code",
      "execution_count": null,
      "metadata": {
        "colab": {
          "base_uri": "https://localhost:8080/"
        },
        "id": "u4hhDXelw5xh",
        "outputId": "7a5eff1e-c746-4301-8e86-31bce262bbf3"
      },
      "outputs": [
        {
          "data": {
            "text/plain": [
              "105.0"
            ]
          },
          "execution_count": 36,
          "metadata": {},
          "output_type": "execute_result"
        }
      ],
      "source": [
        "nuevo_df['Superficie_Total'].quantile(0.75)"
      ]
    },
    {
      "cell_type": "markdown",
      "metadata": {
        "id": "WlJcWoo0xxz6"
      },
      "source": [
        "Calculo la moda:"
      ]
    },
    {
      "cell_type": "code",
      "execution_count": null,
      "metadata": {
        "colab": {
          "base_uri": "https://localhost:8080/"
        },
        "id": "CoSJrabnxyG3",
        "outputId": "5d521209-0521-4fed-aaf5-6e0db01657ee"
      },
      "outputs": [
        {
          "data": {
            "text/plain": [
              "0    50.0\n",
              "Name: Superficie_Total, dtype: float64"
            ]
          },
          "execution_count": 37,
          "metadata": {},
          "output_type": "execute_result"
        }
      ],
      "source": [
        "nuevo_df['Superficie_Total'].mode()"
      ]
    },
    {
      "cell_type": "markdown",
      "metadata": {
        "id": "P3UHE93cxyX2"
      },
      "source": [
        "Calculo el minimo:"
      ]
    },
    {
      "cell_type": "code",
      "execution_count": null,
      "metadata": {
        "colab": {
          "base_uri": "https://localhost:8080/"
        },
        "id": "YcNIOVOsxyx9",
        "outputId": "91afc087-95c5-4289-9ef6-0542f9d1339f"
      },
      "outputs": [
        {
          "data": {
            "text/plain": [
              "10.0"
            ]
          },
          "execution_count": 38,
          "metadata": {},
          "output_type": "execute_result"
        }
      ],
      "source": [
        "minimo=nuevo_df['Superficie_Total'].min()\n",
        "minimo"
      ]
    },
    {
      "cell_type": "markdown",
      "metadata": {
        "id": "FLVxD4f6x6N-"
      },
      "source": [
        "Calculo el maximo:"
      ]
    },
    {
      "cell_type": "code",
      "execution_count": null,
      "metadata": {
        "colab": {
          "base_uri": "https://localhost:8080/"
        },
        "id": "6xtjGyA0x6d9",
        "outputId": "d453067a-bc2d-4ff2-a542-a9d35054c7b0"
      },
      "outputs": [
        {
          "data": {
            "text/plain": [
              "137000.0"
            ]
          },
          "execution_count": 39,
          "metadata": {},
          "output_type": "execute_result"
        }
      ],
      "source": [
        "maximo=nuevo_df['Superficie_Total'].max()\n",
        "maximo"
      ]
    },
    {
      "cell_type": "markdown",
      "metadata": {
        "id": "8-hvRySjx6t8"
      },
      "source": [
        "Calculo el rango:"
      ]
    },
    {
      "cell_type": "code",
      "execution_count": null,
      "metadata": {
        "colab": {
          "base_uri": "https://localhost:8080/"
        },
        "id": "iuN3xMXcx69E",
        "outputId": "0d3c977e-3741-4e3e-ff24-c4bfaf006aa9"
      },
      "outputs": [
        {
          "data": {
            "text/plain": [
              "136990.0"
            ]
          },
          "execution_count": 40,
          "metadata": {},
          "output_type": "execute_result"
        }
      ],
      "source": [
        "rango=maximo-minimo\n",
        "rango"
      ]
    },
    {
      "cell_type": "code",
      "execution_count": null,
      "metadata": {
        "colab": {
          "base_uri": "https://localhost:8080/",
          "height": 565
        },
        "id": "PzbfOD4LyAs8",
        "outputId": "56807b5a-20e2-4134-fd28-91223d34f68b"
      },
      "outputs": [
        {
          "output_type": "display_data",
          "data": {
            "text/plain": [
              "<Figure size 1000x600 with 1 Axes>"
            ],
            "image/png": "[encoded data removed]"
          },
          "metadata": {}
        }
      ],
      "source": [
        "# Filtro las filas donde la Superficie_Total está entre 0 y 5000 metros cuadrados y el Tipo_Vivienda es Casa, PH o Departamento\n",
        "df_filtrado = nuevo_df[(nuevo_df['Superficie_Total'] >= 0) & (nuevo_df['Superficie_Total'] <= 5000) & (nuevo_df['Tipo_Vivienda'].isin(['Casa','PH','Departamento']))]\n",
        "\n",
        "# Creo el gráfico de dispersión\n",
        "plt.figure(figsize=(10, 6))\n",
        "plt.scatter(df_filtrado['Tipo_Vivienda'], df_filtrado['Superficie_Total'])\n",
        "plt.xlabel('Tipo de Vivienda')\n",
        "plt.ylabel('Superficie Total (m²)')\n",
        "plt.title('Relación entre Superficie Total y Tipo de Vivienda (0-5000 m²)')\n",
        "plt.show()"
      ]
    },
    {
      "cell_type": "markdown",
      "metadata": {
        "id": "ngTrweJndeui"
      },
      "source": [
        "De este grafico podemos apreciar como la gran mayoria de las propiedades tiene menos de 2000 m².\n",
        "En el caso particular de los Departamentos y Ph, se puede deducir que tienen hasta un aproximado de 800 m², siendo escasos los casos donde superan este promedio."
      ]
    },
    {
      "cell_type": "markdown",
      "metadata": {
        "id": "LxhOlKZBKtOE"
      },
      "source": [
        "### Superficie_Cubierta"
      ]
    },
    {
      "cell_type": "markdown",
      "metadata": {
        "id": "EJI77NG6POdy"
      },
      "source": [
        "Calculo la media:"
      ]
    },
    {
      "cell_type": "code",
      "execution_count": null,
      "metadata": {
        "colab": {
          "base_uri": "https://localhost:8080/"
        },
        "id": "-hBVkcxdPOz0",
        "outputId": "f1533f71-fb3f-4e4c-9148-5dd02f1c5ca7"
      },
      "outputs": [
        {
          "data": {
            "text/plain": [
              "87.93193244952968"
            ]
          },
          "execution_count": 42,
          "metadata": {},
          "output_type": "execute_result"
        }
      ],
      "source": [
        "nuevo_df['Superficie_Cubierta'].mean()"
      ]
    },
    {
      "cell_type": "markdown",
      "metadata": {
        "id": "6_lwEGPYPPHA"
      },
      "source": [
        "Calculo la mediana:"
      ]
    },
    {
      "cell_type": "code",
      "execution_count": null,
      "metadata": {
        "colab": {
          "base_uri": "https://localhost:8080/"
        },
        "id": "bOV9T7xHPPn3",
        "outputId": "6b31b959-6411-4238-c6b2-596dca54252e"
      },
      "outputs": [
        {
          "data": {
            "text/plain": [
              "58.0"
            ]
          },
          "execution_count": 43,
          "metadata": {},
          "output_type": "execute_result"
        }
      ],
      "source": [
        "nuevo_df['Superficie_Cubierta'].median()"
      ]
    },
    {
      "cell_type": "markdown",
      "metadata": {
        "id": "mPp0M2GlPP5p"
      },
      "source": [
        "Calculo el 1er cuatril:"
      ]
    },
    {
      "cell_type": "code",
      "execution_count": null,
      "metadata": {
        "colab": {
          "base_uri": "https://localhost:8080/"
        },
        "id": "vz_ByAk0PQML",
        "outputId": "09bef80b-da4a-4a29-9d65-d5fd3c649241"
      },
      "outputs": [
        {
          "data": {
            "text/plain": [
              "40.0"
            ]
          },
          "execution_count": 44,
          "metadata": {},
          "output_type": "execute_result"
        }
      ],
      "source": [
        "nuevo_df['Superficie_Cubierta'].quantile(0.25)"
      ]
    },
    {
      "cell_type": "markdown",
      "metadata": {
        "id": "qR9LOresQBr-"
      },
      "source": [
        "Calculo el 2do cuatril:"
      ]
    },
    {
      "cell_type": "code",
      "execution_count": null,
      "metadata": {
        "colab": {
          "base_uri": "https://localhost:8080/"
        },
        "id": "2xZ8zYvYQCOO",
        "outputId": "8d1448be-b29e-4347-e75a-aabd5ba59def"
      },
      "outputs": [
        {
          "data": {
            "text/plain": [
              "58.0"
            ]
          },
          "execution_count": 45,
          "metadata": {},
          "output_type": "execute_result"
        }
      ],
      "source": [
        "nuevo_df['Superficie_Cubierta'].quantile(0.50)"
      ]
    },
    {
      "cell_type": "markdown",
      "metadata": {
        "id": "cjxvSsIBQBXN"
      },
      "source": [
        "Calculo el 3er cuatril:"
      ]
    },
    {
      "cell_type": "code",
      "execution_count": null,
      "metadata": {
        "colab": {
          "base_uri": "https://localhost:8080/"
        },
        "id": "NiEaHE6iQBG-",
        "outputId": "759700ce-9598-4066-db58-db32b00b2ec9"
      },
      "outputs": [
        {
          "data": {
            "text/plain": [
              "88.0"
            ]
          },
          "execution_count": 46,
          "metadata": {},
          "output_type": "execute_result"
        }
      ],
      "source": [
        "nuevo_df['Superficie_Cubierta'].quantile(0.75)"
      ]
    },
    {
      "cell_type": "markdown",
      "metadata": {
        "id": "_o3oAGaUQtGu"
      },
      "source": [
        "Calculo la moda:"
      ]
    },
    {
      "cell_type": "code",
      "execution_count": null,
      "metadata": {
        "colab": {
          "base_uri": "https://localhost:8080/"
        },
        "id": "b2IiqIYTQtij",
        "outputId": "0a6dbaf1-8ada-4663-cdcb-7aa60a7429e2"
      },
      "outputs": [
        {
          "data": {
            "text/plain": [
              "0    40.0\n",
              "Name: Superficie_Cubierta, dtype: float64"
            ]
          },
          "execution_count": 47,
          "metadata": {},
          "output_type": "execute_result"
        }
      ],
      "source": [
        "nuevo_df['Superficie_Cubierta'].mode()"
      ]
    },
    {
      "cell_type": "markdown",
      "metadata": {
        "id": "kIHEZhELQtv7"
      },
      "source": [
        "Calculo el minimo:"
      ]
    },
    {
      "cell_type": "code",
      "execution_count": null,
      "metadata": {
        "colab": {
          "base_uri": "https://localhost:8080/"
        },
        "id": "yO4fD3kqQuAp",
        "outputId": "6a583df4-634d-4bb8-f125-604a1888d129"
      },
      "outputs": [
        {
          "data": {
            "text/plain": [
              "1.0"
            ]
          },
          "execution_count": 48,
          "metadata": {},
          "output_type": "execute_result"
        }
      ],
      "source": [
        "minimo=nuevo_df['Superficie_Cubierta'].min()\n",
        "minimo"
      ]
    },
    {
      "cell_type": "markdown",
      "metadata": {
        "id": "4lrqrczaQy6l"
      },
      "source": [
        "Calculo el maximo:"
      ]
    },
    {
      "cell_type": "code",
      "execution_count": null,
      "metadata": {
        "colab": {
          "base_uri": "https://localhost:8080/"
        },
        "id": "Sgd4lFiwQzOV",
        "outputId": "cdbb7956-16ca-4f71-aa33-0e829c401f0c"
      },
      "outputs": [
        {
          "data": {
            "text/plain": [
              "217000.0"
            ]
          },
          "execution_count": 49,
          "metadata": {},
          "output_type": "execute_result"
        }
      ],
      "source": [
        "maximo=nuevo_df['Superficie_Cubierta'].max()\n",
        "maximo"
      ]
    },
    {
      "cell_type": "markdown",
      "metadata": {
        "id": "6kZI-NnRQzdV"
      },
      "source": [
        "Calculo el rango:"
      ]
    },
    {
      "cell_type": "code",
      "execution_count": null,
      "metadata": {
        "colab": {
          "base_uri": "https://localhost:8080/"
        },
        "id": "2eZ4h11JQzs7",
        "outputId": "0abc4920-1af2-4e9e-a5e5-6a509ee92a63"
      },
      "outputs": [
        {
          "data": {
            "text/plain": [
              "216999.0"
            ]
          },
          "execution_count": 50,
          "metadata": {},
          "output_type": "execute_result"
        }
      ],
      "source": [
        "rango=maximo-minimo\n",
        "rango"
      ]
    },
    {
      "cell_type": "code",
      "execution_count": null,
      "metadata": {
        "colab": {
          "base_uri": "https://localhost:8080/",
          "height": 651
        },
        "id": "VaCPGHgYmUXp",
        "outputId": "6a289906-0b78-4f00-f5fd-d6e57a36b707"
      },
      "outputs": [
        {
          "name": "stderr",
          "output_type": "stream",
          "text": [
            "<ipython-input-51-a776dd4308cc>:2: FutureWarning: \n",
            "\n",
            "The `ci` parameter is deprecated. Use `errorbar=None` for the same effect.\n",
            "\n",
            "  sns.barplot(data=nuevo_df, x='Tipo_Vivienda', y='Superficie_Cubierta',ci=None)  # El parámetro ci=None evita que se muestren intervalos de confianza\n"
          ]
        },
        {
          "data": {
            "image/png": "[encoded data removed]",
            "text/plain": [
              "<Figure size 1000x600 with 1 Axes>"
            ]
          },
          "metadata": {},
          "output_type": "display_data"
        }
      ],
      "source": [
        "plt.figure(figsize=(10, 6))\n",
        "sns.barplot(data=nuevo_df, x='Tipo_Vivienda', y='Superficie_Cubierta',ci=None)  # El parámetro ci=None evita que se muestren intervalos de confianza\n",
        "\n",
        "plt.title('Superficie Cubierta por Tipo de Vivienda')\n",
        "plt.xlabel('Tipo de Vivienda')\n",
        "plt.ylabel('Superficie Cubierta')\n",
        "\n",
        "plt.show()"
      ]
    },
    {
      "cell_type": "markdown",
      "metadata": {
        "id": "bSUeUlFvpxF_"
      },
      "source": [
        "Podemos ver como la Casa es el tipo de vivienda que mayor superficie tiene cubierta, seguida por el PH y luego por el Deaprtamento.\n",
        "Esto se explica porque los departamentos, en el mejor de los casos, solo gozan de un balcón."
      ]
    },
    {
      "cell_type": "markdown",
      "metadata": {
        "id": "-SeoP4Zec0qe"
      },
      "source": [
        "### Precio"
      ]
    },
    {
      "cell_type": "markdown",
      "metadata": {
        "id": "L6hJHagYzO5F"
      },
      "source": [
        "Calculo la media:"
      ]
    },
    {
      "cell_type": "code",
      "execution_count": null,
      "metadata": {
        "colab": {
          "base_uri": "https://localhost:8080/"
        },
        "id": "Ptx4fRqYzPKu",
        "outputId": "00837283-76fa-4a1b-f657-753e3e1e319a"
      },
      "outputs": [
        {
          "data": {
            "text/plain": [
              "226238.20718522213"
            ]
          },
          "execution_count": 52,
          "metadata": {},
          "output_type": "execute_result"
        }
      ],
      "source": [
        "nuevo_df['Precio'].mean()"
      ]
    },
    {
      "cell_type": "markdown",
      "metadata": {
        "id": "QoggoPQuzPed"
      },
      "source": [
        "Calculo la mediana:"
      ]
    },
    {
      "cell_type": "code",
      "execution_count": null,
      "metadata": {
        "colab": {
          "base_uri": "https://localhost:8080/"
        },
        "id": "AhqPrn2pzP7e",
        "outputId": "50c24f9f-98b1-4689-f622-6be3b62b3f69"
      },
      "outputs": [
        {
          "data": {
            "text/plain": [
              "143900.0"
            ]
          },
          "execution_count": 53,
          "metadata": {},
          "output_type": "execute_result"
        }
      ],
      "source": [
        "nuevo_df['Precio'].median()"
      ]
    },
    {
      "cell_type": "markdown",
      "metadata": {
        "id": "fYtiaf6EzQK0"
      },
      "source": [
        "Calculo el 1er cuatril:"
      ]
    },
    {
      "cell_type": "code",
      "execution_count": null,
      "metadata": {
        "colab": {
          "base_uri": "https://localhost:8080/"
        },
        "id": "RwuG7iKlzQb0",
        "outputId": "479ac941-b5f9-439d-d3c4-c548b16311b9"
      },
      "outputs": [
        {
          "data": {
            "text/plain": [
              "95000.0"
            ]
          },
          "execution_count": 54,
          "metadata": {},
          "output_type": "execute_result"
        }
      ],
      "source": [
        "nuevo_df['Precio'].quantile(0.25)"
      ]
    },
    {
      "cell_type": "markdown",
      "metadata": {
        "id": "nRaJfWE2zQsF"
      },
      "source": [
        "Calculo el 2do cuatril:"
      ]
    },
    {
      "cell_type": "code",
      "execution_count": null,
      "metadata": {
        "colab": {
          "base_uri": "https://localhost:8080/"
        },
        "id": "NbyTb2oBzQ-m",
        "outputId": "7b381461-8c4e-4f7c-9182-4445d061fca0"
      },
      "outputs": [
        {
          "data": {
            "text/plain": [
              "143900.0"
            ]
          },
          "execution_count": 55,
          "metadata": {},
          "output_type": "execute_result"
        }
      ],
      "source": [
        "nuevo_df['Precio'].quantile(0.50)"
      ]
    },
    {
      "cell_type": "markdown",
      "metadata": {
        "id": "AIiedbE0zRL9"
      },
      "source": [
        "Calculo el 3er cuatril:"
      ]
    },
    {
      "cell_type": "code",
      "execution_count": null,
      "metadata": {
        "colab": {
          "base_uri": "https://localhost:8080/"
        },
        "id": "JxFIH-YUzRgN",
        "outputId": "ddfd07bf-4f44-4f55-e583-d509e148d3f7"
      },
      "outputs": [
        {
          "data": {
            "text/plain": [
              "237000.0"
            ]
          },
          "execution_count": 56,
          "metadata": {},
          "output_type": "execute_result"
        }
      ],
      "source": [
        "nuevo_df['Precio'].quantile(0.75)"
      ]
    },
    {
      "cell_type": "markdown",
      "metadata": {
        "id": "dDV25FhizjEk"
      },
      "source": [
        "Calculo la moda:"
      ]
    },
    {
      "cell_type": "code",
      "execution_count": null,
      "metadata": {
        "colab": {
          "base_uri": "https://localhost:8080/"
        },
        "id": "SxPbdxX0zjWs",
        "outputId": "36902dec-89e0-4664-f137-2e6042a4571c"
      },
      "outputs": [
        {
          "data": {
            "text/plain": [
              "0    110000.0\n",
              "Name: Precio, dtype: float64"
            ]
          },
          "execution_count": 57,
          "metadata": {},
          "output_type": "execute_result"
        }
      ],
      "source": [
        "nuevo_df['Precio'].mode()"
      ]
    },
    {
      "cell_type": "markdown",
      "metadata": {
        "id": "omK8mMfQzjl0"
      },
      "source": [
        "Calculo el minimo:"
      ]
    },
    {
      "cell_type": "code",
      "execution_count": null,
      "metadata": {
        "colab": {
          "base_uri": "https://localhost:8080/"
        },
        "id": "X6lsybmFzj6s",
        "outputId": "8e8c6507-fdd6-4c58-9f84-03d153e11df4"
      },
      "outputs": [
        {
          "data": {
            "text/plain": [
              "5000.0"
            ]
          },
          "execution_count": 58,
          "metadata": {},
          "output_type": "execute_result"
        }
      ],
      "source": [
        "minimo=nuevo_df['Precio'].min()\n",
        "minimo"
      ]
    },
    {
      "cell_type": "markdown",
      "metadata": {
        "id": "gPdR0PfuzkPs"
      },
      "source": [
        "Calculo el maximo:"
      ]
    },
    {
      "cell_type": "code",
      "execution_count": null,
      "metadata": {
        "colab": {
          "base_uri": "https://localhost:8080/"
        },
        "id": "KwEa2iD8zkfV",
        "outputId": "5d84107c-d27b-4cd6-d56b-537f3e791167"
      },
      "outputs": [
        {
          "data": {
            "text/plain": [
              "21400000.0"
            ]
          },
          "execution_count": 59,
          "metadata": {},
          "output_type": "execute_result"
        }
      ],
      "source": [
        "maximo=nuevo_df['Precio'].max()\n",
        "maximo"
      ]
    },
    {
      "cell_type": "markdown",
      "metadata": {
        "id": "Vw3pT071zks8"
      },
      "source": [
        "Calculo el rango:"
      ]
    },
    {
      "cell_type": "code",
      "execution_count": null,
      "metadata": {
        "colab": {
          "base_uri": "https://localhost:8080/"
        },
        "id": "EyduQSzfzk_m",
        "outputId": "d080d9d3-0430-4315-de79-ee007ed2c4ed"
      },
      "outputs": [
        {
          "data": {
            "text/plain": [
              "21395000.0"
            ]
          },
          "execution_count": 60,
          "metadata": {},
          "output_type": "execute_result"
        }
      ],
      "source": [
        "rango=maximo-minimo\n",
        "rango"
      ]
    },
    {
      "cell_type": "code",
      "execution_count": null,
      "metadata": {
        "colab": {
          "base_uri": "https://localhost:8080/",
          "height": 565
        },
        "id": "eSw4WTJ434bo",
        "outputId": "b30d2d25-3aba-4911-ca0f-6e486d5eba7c"
      },
      "outputs": [
        {
          "data": {
            "image/png": "[encoded data removed]",
            "text/plain": [
              "<Figure size 1200x600 with 1 Axes>"
            ]
          },
          "metadata": {},
          "output_type": "display_data"
        }
      ],
      "source": [
        "# Calculo la media del precio para cada tipo de vivienda\n",
        "media_precio =nuevo_df.groupby('Tipo_Vivienda')['Precio'].mean().reset_index()\n",
        "\n",
        "# Creo el gráfico de barras\n",
        "plt.figure(figsize=(12, 6))\n",
        "plt.bar(media_precio['Tipo_Vivienda'], media_precio['Precio'], color='green')\n",
        "\n",
        "# Agrego información\n",
        "plt.title('Relación entre Precio y Tipo de Vivienda (Media)')\n",
        "plt.xlabel('Tipo de Vivienda')\n",
        "plt.ylabel('Precio Medio')\n",
        "\n",
        "plt.show()"
      ]
    },
    {
      "cell_type": "markdown",
      "metadata": {
        "id": "hX4WxU307U9f"
      },
      "source": [
        "Podemos apreciar que las propiedades más caras son las Casas.\n",
        "Esto puede deberse a sus caracteristicas, como es su ubicación, su superficie, su cantidad de ambientes, etc."
      ]
    },
    {
      "cell_type": "markdown",
      "metadata": {
        "id": "miHX1VnU7zTZ"
      },
      "source": [
        "# Variables Cualitativas"
      ]
    },
    {
      "cell_type": "markdown",
      "metadata": {
        "id": "GC1AUMakMEiz"
      },
      "source": [
        "Al haber creado un nuevo dataset, las unicas variables cualitativas que me quedan son 'Tipo_Vivienda' y 'Barrio', ya que 'Ubicacion' siempre es 'Capital Federal'.\n",
        "Voy a analizar como se relacionan estas dos variables potables entre ellas y como se comportan de acuerdo a las variables cuantitativas."
      ]
    },
    {
      "cell_type": "markdown",
      "metadata": {
        "id": "pl1ehqqzS6gB"
      },
      "source": [
        "Para empezar, voy a mostrar los principales barrios donde tengo propiedades.\n",
        "<br>\n",
        "***Robar código es mi pasión***"
      ]
    },
    {
      "cell_type": "code",
      "execution_count": null,
      "metadata": {
        "colab": {
          "base_uri": "https://localhost:8080/",
          "height": 545
        },
        "id": "x3fswh2OTmx4",
        "outputId": "90ffa928-7435-4cb3-b121-c81388756d7d"
      },
      "outputs": [
        {
          "output_type": "display_data",
          "data": {
            "text/plain": [
              "<Figure size 640x480 with 1 Axes>"
            ],
            "image/png": "[encoded data removed]"
          },
          "metadata": {}
        }
      ],
      "source": [
        "operacion= nuevo_df['Barrio'].value_counts().head(10)\n",
        "operacion.plot(kind='bar',color=\"red\")\n",
        "plt.xlabel('Principales Barrios')\n",
        "plt.ylabel('Cantidad de Registros')\n",
        "plt.title('Barrio')\n",
        "plt.show()"
      ]
    },
    {
      "cell_type": "markdown",
      "metadata": {
        "id": "LnhYETUCl6l5"
      },
      "source": [
        "Voy a mostrar que tipo de vivienda es más cara en el principal barrio (Palermo)\n",
        " y luego voy a hacer lo mismo con 'Barrio Norte'"
      ]
    },
    {
      "cell_type": "code",
      "execution_count": null,
      "metadata": {
        "colab": {
          "base_uri": "https://localhost:8080/",
          "height": 564
        },
        "id": "Un3P3_SBju4W",
        "outputId": "2a94d2ff-b517-4380-d30e-374c7d411ce9"
      },
      "outputs": [
        {
          "data": {
            "image/png": "[encoded data removed]",
            "text/plain": [
              "<Figure size 1200x600 with 1 Axes>"
            ]
          },
          "metadata": {},
          "output_type": "display_data"
        }
      ],
      "source": [
        "# Filtro las filas donde el barrio es 'Palermo'\n",
        "df_palermo = nuevo_df[nuevo_df['Barrio'] == 'Palermo']\n",
        "\n",
        "plt.figure(figsize=(12, 6))\n",
        "plt.bar(df_palermo['Tipo_Vivienda'], df_palermo['Precio'], color='blue')\n",
        "\n",
        "plt.title('Precios de Viviendas en Palermo')\n",
        "plt.xlabel('Tipo de Vivienda')\n",
        "plt.ylabel('Precio')\n",
        "\n",
        "plt.show()"
      ]
    },
    {
      "cell_type": "markdown",
      "metadata": {
        "id": "O9A-yGuLs7HQ"
      },
      "source": [
        "Podemos apreciar que, por escasa porporción, los Departamentos son más caros que las casas.\n",
        "<br>\n",
        "Esto puede deberse a que el barrio porteño de Palermo no cuenta con el suficiente territorio para gozar de barrios con casas. Para hacerle frente a esta situación, Palermo utiliza edificios divididos en Departamentos."
      ]
    },
    {
      "cell_type": "code",
      "execution_count": null,
      "metadata": {
        "colab": {
          "base_uri": "https://localhost:8080/",
          "height": 564
        },
        "id": "wa2rWX1Jp0EL",
        "outputId": "0ed2224a-b1d4-4c81-8b2a-463df5c78d62"
      },
      "outputs": [
        {
          "output_type": "display_data",
          "data": {
            "text/plain": [
              "<Figure size 1200x600 with 1 Axes>"
            ],
            "image/png": "[encoded data removed]"
          },
          "metadata": {}
        }
      ],
      "source": [
        "# Filtro las filas donde el barrio es 'Barrio Norte'\n",
        "df_BN = nuevo_df[nuevo_df['Barrio'] == 'Barrio Norte']\n",
        "\n",
        "plt.figure(figsize=(12, 6))\n",
        "plt.bar(df_BN['Tipo_Vivienda'], df_BN['Precio'], color='red')\n",
        "\n",
        "plt.title('Precios de Viviendas en Barrio Norte')\n",
        "plt.xlabel('Tipo de Vivienda')\n",
        "plt.ylabel('Precio')\n",
        "\n",
        "plt.show()"
      ]
    },
    {
      "cell_type": "markdown",
      "metadata": {
        "id": "664atlXQqyNi"
      },
      "source": [
        "En Barrio Norte, el tipo de vivienda más cara es la Casa, posiblemente a las diferencias en materia de infraestructura.\n",
        "<br>\n",
        "Es de destacar la diferencia de precios. Es mucho más cara una propiedad en Palermo que en Barrio Norte"
      ]
    },
    {
      "cell_type": "code",
      "execution_count": null,
      "metadata": {
        "colab": {
          "base_uri": "https://localhost:8080/",
          "height": 692
        },
        "id": "Oa--LnGEzLxR",
        "outputId": "fbf19d98-0fb5-4b64-99b3-8fb7d4cdbfa6"
      },
      "outputs": [
        {
          "output_type": "display_data",
          "data": {
            "text/plain": [
              "<Figure size 1000x600 with 1 Axes>"
            ],
            "image/png": "[encoded data removed]"
          },
          "metadata": {}
        }
      ],
      "source": [
        "# Calculo la frecuencia absoluta\n",
        "frecuencia_absoluta = nuevo_df['Barrio'].value_counts()\n",
        "\n",
        "# Calculo la frecuencia relativa\n",
        "frecuencia_relativa = nuevo_df['Barrio'].value_counts(normalize=True)\n",
        "\n",
        "# Creo un gráfico de barras\n",
        "plt.figure(figsize=(10, 6))\n",
        "sns.barplot(x=frecuencia_absoluta.index, y=frecuencia_absoluta.values)\n",
        "plt.xticks(rotation=90)\n",
        "plt.title('Gráfico de Barras de Frecuencia Absoluta')\n",
        "plt.xlabel('Barrio')\n",
        "plt.ylabel('Frecuencia Absoluta')\n",
        "plt.show()"
      ]
    },
    {
      "cell_type": "markdown",
      "metadata": {
        "id": "MWO33UGK0YRU"
      },
      "source": [
        "En el grafico anterior podemos apreciar como la mayor cantidad de oferta se da en los barrios más caros, generalmente. Quiza se deba, entre otros potenciales motivos, a los altos precios en los que oscilan las propiedades."
      ]
    },
    {
      "cell_type": "markdown",
      "metadata": {
        "id": "X1FiQc6L2sAO"
      },
      "source": [
        "Voy a crear una tabla para poder ver cuantas propiedades de los 3 tipos (Casa, Departamento,PH) tengo en cada barrio."
      ]
    },
    {
      "cell_type": "code",
      "execution_count": null,
      "metadata": {
        "colab": {
          "base_uri": "https://localhost:8080/"
        },
        "id": "Y0B-ReZx2E_5",
        "outputId": "1ecc2ec3-c716-4fa7-ccbe-c52896b7e7fc"
      },
      "outputs": [
        {
          "output_type": "stream",
          "name": "stdout",
          "text": [
            "Tabla de Contingencia:\n",
            "Tipo_Vivienda         Casa  Departamento    PH  Total\n",
            "Barrio                                               \n",
            "Abasto                   5           221     5    231\n",
            "Agronomía               28           116    91    235\n",
            "Almagro                 37          3695   349   4081\n",
            "Balvanera               23          2347   183   2553\n",
            "Barracas                87           964   195   1246\n",
            "Barrio Norte            22          2909    44   2975\n",
            "Belgrano               242          8423   233   8898\n",
            "Boca                    26           287    52    365\n",
            "Boedo                   82           868   287   1237\n",
            "Caballito              162          6449   557   7168\n",
            "Catalinas                1             6     0      7\n",
            "Centro / Microcentro     0            74     2     76\n",
            "Chacarita               32           573    92    697\n",
            "Coghlan                 67           799   118    984\n",
            "Colegiales              75          1630   246   1951\n",
            "Congreso                 2           513    20    535\n",
            "Constitución            21           362    70    453\n",
            "Flores                 242          2514   354   3110\n",
            "Floresta               126           737   332   1195\n",
            "Las Cañitas              0            12     0     12\n",
            "Liniers                 86           411   171    668\n",
            "Mataderos              131           278   310    719\n",
            "Monserrat               11          1015    89   1115\n",
            "Monte Castro            71           277   151    499\n",
            "Nuñez                  150          3212   184   3546\n",
            "Once                     1           397     9    407\n",
            "Palermo                183         13615   510  14308\n",
            "Parque Avellaneda       95           131   154    380\n",
            "Parque Centenario        0            84     9     93\n",
            "Parque Chacabuco       122           697   254   1073\n",
            "Parque Chas             33           240   100    373\n",
            "Parque Patricios        68           432   139    639\n",
            "Paternal                41           399   126    566\n",
            "Pompeya                 49           104    63    216\n",
            "Puerto Madero            4          1489     0   1493\n",
            "Recoleta                18          6196    68   6282\n",
            "Retiro                  18          1225     7   1250\n",
            "Saavedra               200          1346   283   1829\n",
            "San Cristobal           42          1085   173   1300\n",
            "San Nicolás             11          1269    15   1295\n",
            "San Telmo               32          1201   147   1380\n",
            "Tribunales               0           115     1    116\n",
            "Velez Sarsfield         36           105   101    242\n",
            "Versalles               95           114   106    315\n",
            "Villa Crespo            66          2847   276   3189\n",
            "Villa Devoto           267          1134   520   1921\n",
            "Villa General Mitre     48           282   105    435\n",
            "Villa Lugano           146           355   111    612\n",
            "Villa Luro              65           486   176    727\n",
            "Villa Ortuzar           51           492   119    662\n",
            "Villa Pueyrredón        95           584   332   1011\n",
            "Villa Real              34            36    72    142\n",
            "Villa Riachuelo         14            17     4     35\n",
            "Villa Santa Rita        43           284   111    438\n",
            "Villa Soldati           14            25     6     45\n",
            "Villa Urquiza          189          3849   635   4673\n",
            "Villa del Parque       172          1286   371   1829\n",
            "Total                 3981         80613  9238  93832\n"
          ]
        }
      ],
      "source": [
        "# Creo una tabla de contingencia (crosstab) entre 'Barrio' y 'Tipo_Vivienda'\n",
        "tabla_contingencia = pd.crosstab(nuevo_df['Barrio'], nuevo_df['Tipo_Vivienda'], margins=True, margins_name='Total')\n",
        "\n",
        "# Muestro la tabla de contingencia y los porcentajes relativos\n",
        "print(\"Tabla de Contingencia:\")\n",
        "print(tabla_contingencia)\n"
      ]
    },
    {
      "cell_type": "markdown",
      "metadata": {
        "id": "nP5Jz2tT3OLa"
      },
      "source": [
        "Viendo los totales, podemos ver como hay más oferta de Departamentos.\n",
        "<br>\n",
        "Si vamos al dataframe (*nuevo_df*) nos encontramos con que tenemos **94249**, pero en el total tenemos **93832**, es decir una diferencia de **417** registros. Interpreto que son los registros vacios en la columna 'Barrio'. <br>\n",
        "Para chequear esto, voy a pedir que me muestre los registros vacios en dicha columna."
      ]
    },
    {
      "cell_type": "code",
      "execution_count": null,
      "metadata": {
        "colab": {
          "base_uri": "https://localhost:8080/"
        },
        "id": "ng48LqyH9tqE",
        "outputId": "d4b32f4c-a422-4e28-feee-b80d64a41848"
      },
      "outputs": [
        {
          "name": "stdout",
          "output_type": "stream",
          "text": [
            "Total de filas con valores nulos en la columna 'Barrio': 417\n"
          ]
        }
      ],
      "source": [
        "# Cuento el total de filas con valores nulos en la columna 'Barrio'\n",
        "total_nulos_barrio = nuevo_df['Barrio'].isnull().sum()\n",
        "\n",
        "print(f\"Total de filas con valores nulos en la columna 'Barrio': {total_nulos_barrio}\")"
      ]
    },
    {
      "cell_type": "markdown",
      "metadata": {
        "id": "im6GIbXN93lm"
      },
      "source": [
        "Efectivamente, la diferencia entre el total de propiedades y del total del dataframe son los datos nulos."
      ]
    },
    {
      "cell_type": "markdown",
      "metadata": {
        "id": "2KqfjbKeC56z"
      },
      "source": [
        "Antes de seguir, quiero mostrar el porcentaje de datos nulos en mi df"
      ]
    },
    {
      "cell_type": "code",
      "execution_count": null,
      "metadata": {
        "colab": {
          "base_uri": "https://localhost:8080/"
        },
        "id": "dNEa3K-ZC4uE",
        "outputId": "ab6b3d63-087e-4eb5-aa84-971b740c1086"
      },
      "outputs": [
        {
          "name": "stdout",
          "output_type": "stream",
          "text": [
            "Porcentaje de datos nulos en el DataFrame: 2.19%\n"
          ]
        }
      ],
      "source": [
        "porcentaje_datos_nulos = (nuevo_df.isnull().sum().sum() / (nuevo_df.shape[0] * nuevo_df.shape[1])) * 100\n",
        "\n",
        "print(f\"Porcentaje de datos nulos en el DataFrame: {porcentaje_datos_nulos:.2f}%\")"
      ]
    },
    {
      "cell_type": "markdown",
      "metadata": {
        "id": "XkAeZa-e-6OS"
      },
      "source": [
        "### Datos nulos por columna"
      ]
    },
    {
      "cell_type": "code",
      "execution_count": null,
      "metadata": {
        "colab": {
          "base_uri": "https://localhost:8080/"
        },
        "id": "xA8pMUlBFrff",
        "outputId": "285421ec-3a18-4c2a-8cac-9edd1cfecc50"
      },
      "outputs": [
        {
          "name": "stdout",
          "output_type": "stream",
          "text": [
            "Porcentaje de datos nulos por columna:\n",
            "ID                        0.000000\n",
            "Tipo_Vivienda             0.000000\n",
            "Ubicación                 0.000000\n",
            "Barrio                    0.442445\n",
            "Cantidad_Ambientes        1.107704\n",
            "Cantidad_Habitaciones    11.657418\n",
            "Superficie_Total          5.139577\n",
            "Superficie_Cubierta       3.558658\n",
            "Precio                    0.000000\n",
            "Moneda                    0.000000\n",
            "dtype: float64\n"
          ]
        }
      ],
      "source": [
        "porcentaje_datos_nulos_por_columna = (nuevo_df.isnull().sum() / len(nuevo_df)) * 100\n",
        "\n",
        "# Muestro el porcentaje de datos nulos por columna\n",
        "print(\"Porcentaje de datos nulos por columna:\")\n",
        "print(porcentaje_datos_nulos_por_columna)"
      ]
    },
    {
      "cell_type": "code",
      "execution_count": null,
      "metadata": {
        "colab": {
          "base_uri": "https://localhost:8080/",
          "height": 710
        },
        "id": "Qilce2ts-_nr",
        "outputId": "842e474a-32ca-4c70-83d7-663e1e7c6c0e"
      },
      "outputs": [
        {
          "data": {
            "image/png": "[encoded data removed]",
            "text/plain": [
              "<Figure size 1200x600 with 1 Axes>"
            ]
          },
          "metadata": {},
          "output_type": "display_data"
        }
      ],
      "source": [
        "# Calculo el porcentaje de datos faltantes por columna\n",
        "porcentaje_faltantes_columna = (nuevo_df.isnull().sum() / len(nuevo_df)) * 100\n",
        "\n",
        "# Creo un gráfico de barras para visualizar los porcentajes de datos faltantes por columna\n",
        "plt.figure(figsize=(12, 6))\n",
        "porcentaje_faltantes_columna.plot(kind='bar', color='skyblue')\n",
        "plt.title('Porcentaje de Datos Faltantes por Columna')\n",
        "plt.xlabel('Columna')\n",
        "plt.ylabel('Porcentaje de Datos Faltantes')\n",
        "plt.show()"
      ]
    },
    {
      "cell_type": "markdown",
      "metadata": {
        "id": "v0b7cjJvBg5s"
      },
      "source": [
        "Se observa como la columna 'Cantidad_Habitaciones' es la que registra el mayor porcentaje de valores nulos.\n",
        "Quiero destacar que se muestra de 0 a 12 porque ese es el porcentaje total de datos nulos como se ve anteriormente."
      ]
    },
    {
      "cell_type": "code",
      "execution_count": null,
      "metadata": {
        "colab": {
          "base_uri": "https://localhost:8080/",
          "height": 675
        },
        "id": "fjlTJmsn_bef",
        "outputId": "9a45b6c1-8e60-4b35-c60a-2ed73fec549e"
      },
      "outputs": [
        {
          "data": {
            "image/png": "[encoded data removed]",
            "text/plain": [
              "<Figure size 800x800 with 1 Axes>"
            ]
          },
          "metadata": {},
          "output_type": "display_data"
        }
      ],
      "source": [
        "# Calculo el porcentaje de datos nulos por columna\n",
        "porcentaje_nulos_columna = (nuevo_df.isnull().sum() / len(nuevo_df)) * 100\n",
        "\n",
        "# Creo un gráfico de torta para visualizar los porcentajes de datos nulos por columna\n",
        "plt.figure(figsize=(8, 8))\n",
        "porcentaje_nulos_columna.plot(kind='pie', autopct='%1.1f%%', startangle=90, colors=['green'] * len(porcentaje_faltantes_columna))\n",
        "plt.title('Porcentaje de Datos nulos por Columna')\n",
        "plt.show()"
      ]
    },
    {
      "cell_type": "markdown",
      "metadata": {
        "id": "CrQZvjaGInsW"
      },
      "source": [
        "Podemos ver como es la distribucion de datos nulos."
      ]
    },
    {
      "cell_type": "markdown",
      "metadata": {
        "id": "WgQSr6zMI4cr"
      },
      "source": [
        "### Datos nulos por fila"
      ]
    },
    {
      "cell_type": "code",
      "execution_count": null,
      "metadata": {
        "colab": {
          "base_uri": "https://localhost:8080/"
        },
        "id": "Y2fy5bKwJYA4",
        "outputId": "25f58fff-3474-4a34-f699-0befb07601d8"
      },
      "outputs": [
        {
          "output_type": "stream",
          "name": "stdout",
          "text": [
            "Datos nulos por fila:\n",
            "25        1\n",
            "42        0\n",
            "43        0\n",
            "49        1\n",
            "51        1\n",
            "         ..\n",
            "460072    0\n",
            "460073    0\n",
            "460074    0\n",
            "460075    0\n",
            "460090    0\n",
            "Length: 94249, dtype: int64\n"
          ]
        }
      ],
      "source": [
        "datos_nulos_por_fila = nuevo_df.isnull().sum(axis=1)\n",
        "\n",
        "# Muestro el número de datos nulos por fila\n",
        "print(\"Datos nulos por fila:\")\n",
        "print(datos_nulos_por_fila)"
      ]
    },
    {
      "cell_type": "code",
      "execution_count": null,
      "metadata": {
        "colab": {
          "base_uri": "https://localhost:8080/"
        },
        "id": "qdBOm8EMJf-w",
        "outputId": "c8c3d018-eec9-4072-d42b-31e36656fe0f"
      },
      "outputs": [
        {
          "name": "stdout",
          "output_type": "stream",
          "text": [
            "Porcentaje de datos nulos por fila:\n",
            "25        10.0\n",
            "42         0.0\n",
            "43         0.0\n",
            "49        10.0\n",
            "51        10.0\n",
            "          ... \n",
            "460072     0.0\n",
            "460073     0.0\n",
            "460074     0.0\n",
            "460075     0.0\n",
            "460090     0.0\n",
            "Length: 94249, dtype: float64\n"
          ]
        }
      ],
      "source": [
        "porcentaje_datos_nulos_por_fila = (nuevo_df.isnull().sum(axis=1) / len(nuevo_df.columns)) * 100\n",
        "\n",
        "# Muestro el porcentaje de datos nulos por fila\n",
        "print(\"Porcentaje de datos nulos por fila:\")\n",
        "print(porcentaje_datos_nulos_por_fila)"
      ]
    },
    {
      "cell_type": "code",
      "execution_count": null,
      "metadata": {
        "colab": {
          "base_uri": "https://localhost:8080/",
          "height": 603
        },
        "id": "h_OcjJ-FJ5PX",
        "outputId": "44b16aa1-4886-4335-c510-652be47e7140"
      },
      "outputs": [
        {
          "data": {
            "image/png": "[encoded data removed]",
            "text/plain": [
              "<Figure size 1200x600 with 1 Axes>"
            ]
          },
          "metadata": {},
          "output_type": "display_data"
        }
      ],
      "source": [
        "# Selecciono 10 filas al azar a modo de muestra, ya que el dataframe tiene 94249 filas y tarda una eternidad en cargar.\n",
        "filas_aleatorias = nuevo_df.sample(n=10, random_state=42)\n",
        "\n",
        "# Calculo el porcentaje de datos nulos por fila\n",
        "porcentaje_faltantes_fila = (filas_aleatorias.isnull().sum(axis=1) / len(filas_aleatorias.columns)) * 100\n",
        "\n",
        "# Creo un gráfico de barras para visualizar los porcentajes de datos nulos por fila\n",
        "plt.figure(figsize=(12, 6))\n",
        "porcentaje_faltantes_fila.plot(kind='bar', color='skyblue')\n",
        "plt.title('Porcentaje de Datos nulos por Fila (Muestra de 10 Filas)')\n",
        "plt.xlabel('Fila')\n",
        "plt.ylabel('Porcentaje de Datos nulos')\n",
        "plt.show()"
      ]
    },
    {
      "cell_type": "markdown",
      "metadata": {
        "id": "PdC_U04gM0tQ"
      },
      "source": [
        "En este grafico de ejemplo podemos ver como 3 filas presentan al menos un dato nulo, es decir, que tienen un 10% de datos nulos."
      ]
    },
    {
      "cell_type": "code",
      "execution_count": null,
      "metadata": {
        "colab": {
          "base_uri": "https://localhost:8080/",
          "height": 382
        },
        "id": "9cUMnpFBQSnm",
        "outputId": "6c58bdc9-a7db-4b5d-8163-a38f6ad111b0"
      },
      "outputs": [
        {
          "output_type": "display_data",
          "data": {
            "text/plain": [
              "<Figure size 1000x600 with 1 Axes>"
            ],
            "image/png": "[encoded data removed]"
          },
          "metadata": {}
        },
        {
          "output_type": "stream",
          "name": "stdout",
          "text": [
            "             Precio  Superficie_Total\n",
            "count  9.424900e+04      89405.000000\n",
            "mean   2.262382e+05        109.092970\n",
            "std    3.186035e+05        980.401976\n",
            "min    5.000000e+03         10.000000\n",
            "25%    9.500000e+04         45.000000\n",
            "50%    1.439000e+05         65.000000\n",
            "75%    2.370000e+05        105.000000\n",
            "max    2.140000e+07     137000.000000\n"
          ]
        }
      ],
      "source": [
        "# Gráfico de dispersión para visualizar la relación\n",
        "plt.figure(figsize=(10, 6))\n",
        "sns.scatterplot(x='Superficie_Total', y='Precio', data=nuevo_df)\n",
        "plt.title('Relación entre Precio de Venta y Metros de Superficie')\n",
        "plt.xlabel('Metros de Superficie')\n",
        "plt.ylabel('Precio de Venta')\n",
        "plt.show()\n",
        "\n",
        "# Estadísticas descriptivas para identificar valores atípicos\n",
        "descripcion = nuevo_df[['Precio', 'Superficie_Total']].describe()\n",
        "print(descripcion)\n",
        "\n",
        "# Boxplot para visualizar posibles valores atípicos\n",
        "plt.figure(figsize=(10, 6))\n",
        "sns.boxplot(x='Superficie_Total', y='Precio', data=nuevo_df)\n",
        "plt.title('Boxplot de Precio de Venta por Metros de Superficie')\n",
        "plt.xlabel('Metros de Superficie')\n",
        "plt.ylabel('Precio de Venta')\n",
        "plt.show()"
      ]
    },
    {
      "cell_type": "markdown",
      "metadata": {
        "id": "KZNs6SCiQvve"
      },
      "source": [
        "Gracias a estos graficos, podemos ver que a mayor superficie, mayor precio.\n",
        "<br>\n",
        "Esto tiene total sentido para mi, pero hay un dato que me llamó la atención. He notado que en ambos graficos, en la esquina superior izquierda, tengo una propiedad que es la más cara pero no tiene una superficie total que vaya de acuerdo con mi analisis, asi que voy a discriminarla a continuacón para poder estudiarla."
      ]
    },
    {
      "cell_type": "code",
      "execution_count": null,
      "metadata": {
        "colab": {
          "base_uri": "https://localhost:8080/"
        },
        "id": "1dudxr4CR9vh",
        "outputId": "e9a5993d-5aa6-417f-d397-586d20310254"
      },
      "outputs": [
        {
          "output_type": "stream",
          "name": "stdout",
          "text": [
            "Fila con el mayor valor en la columna 'Precio':\n",
            "ID                                 60074\n",
            "Tipo_Vivienda               Departamento\n",
            "Ubicación                Capital Federal\n",
            "Barrio                         Caballito\n",
            "Cantidad_Ambientes                   3.0\n",
            "Cantidad_Habitaciones                NaN\n",
            "Superficie_Total                    68.0\n",
            "Superficie_Cubierta                 64.0\n",
            "Precio                        21400000.0\n",
            "Moneda                               USD\n",
            "Name: 60073, dtype: object\n"
          ]
        }
      ],
      "source": [
        "# Encuentro el índice del máximo valor en la columna 'Precio'\n",
        "indice_max_precio = nuevo_df['Precio'].idxmax()\n",
        "\n",
        "# Muestro la fila correspondiente al índice del máximo valor en la columna 'Precio'\n",
        "fila_max_precio = nuevo_df.loc[indice_max_precio]\n",
        "\n",
        "print(f\"Fila con el mayor valor en la columna 'Precio':\")\n",
        "print(fila_max_precio)"
      ]
    },
    {
      "cell_type": "markdown",
      "metadata": {
        "id": "9KfF4NQSSIFR"
      },
      "source": [
        "Vemos que es una propiedad valuada en más de 21 millones de dolares, un valor irreal para un Deaprtamento en Caballito de 3 ambientes, en el cual no se registran habitaciones, que tiene 64 m² cubiertos de 68 m² totales.\n",
        "<br>\n",
        "Claramente se trata de un error, un precio más acercado a la realidad es de 214 mil dolares."
      ]
    },
    {
      "cell_type": "markdown",
      "metadata": {
        "id": "LczYHhURM7p_"
      },
      "source": [
        "# Conclusión"
      ]
    },
    {
      "cell_type": "markdown",
      "metadata": {
        "id": "Cor5c4S5NvFv"
      },
      "source": [
        "Luego de analizar los datos que consideré más relevantes, llegué a las siguientes conclusiones:\n",
        "\n",
        "*   Esta todo caro.\n",
        "*   La situación habitacional en CABA es insostenible.\n",
        "*   La situación economica no permite acceder siquiera a un alquiler.\n",
        "*   Que el mercado inmobiliario este relentizado es conflictivo tanto para los inquilinos como para los propietarios, ya que no pueden alquilar y cobrar el alquiler, respectivamente.\n",
        "\n",
        "Es de suma urgencia que las operaciones dejen de estar en dolares y a precios, potencialmente hablando, exorbitados ya que eso complica cumplir con el proyecto de tener una propiedad propia.\n",
        "\n",
        "\n",
        "\n"
      ]
    },
    {
      "cell_type": "markdown",
      "metadata": {
        "id": "BjlcP27IWO0x"
      },
      "source": [
        "Me hubiera gustado que se tuviera en cuenta si se permiten mascotas o niños en las propiedades y que si estas son ofertadas por inmobiliarias o dueño directo."
      ]
    },
    {
      "cell_type": "markdown",
      "metadata": {
        "id": "hJVPNySM-pw3"
      },
      "source": [
        "Y como me dijo una compañera de cursada:\n",
        "<br>\n",
        "Siempre terraza, nunca sotano."
      ]
    }
  ],
  "metadata": {
    "colab": {
      "collapsed_sections": [
        "XkAeZa-e-6OS"
      ],
      "provenance": []
    },
    "kernelspec": {
      "display_name": "Python 3",
      "name": "python3"
    },
    "language_info": {
      "name": "python",
      "version": "3.11.4"
    }
  },
  "nbformat": 4,
  "nbformat_minor": 0
}